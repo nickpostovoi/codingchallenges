{
 "cells": [
  {
   "attachments": {},
   "cell_type": "markdown",
   "metadata": {
    "datalore": {
     "hide_input_from_viewers": false,
     "hide_output_from_viewers": false,
     "node_id": "Conservative Investor",
     "sheet_delimiter": true,
     "type": "MD"
    }
   },
   "source": [
    "# Conservative Investor"
   ]
  },
  {
   "cell_type": "code",
   "execution_count": null,
   "metadata": {
    "datalore": {
     "hide_input_from_viewers": false,
     "hide_output_from_viewers": false,
     "node_id": "imen77JWQ11sQwWF3ZPoPb",
     "report_properties": {
      "rowId": "cowAXWN6tBhFBzhtKJR4UY"
     },
     "type": "CODE"
    }
   },
   "outputs": [
    {
     "name": "stdout",
     "output_type": "stream",
     "text": [
      "Requirement already satisfied: yfinance in /opt/python/envs/default/lib/python3.8/site-packages (0.1.70)\r\n",
      "Requirement already satisfied: multitasking>=0.0.7 in /opt/python/envs/default/lib/python3.8/site-packages (from yfinance) (0.0.10)\r\n",
      "Requirement already satisfied: numpy>=1.15 in /opt/python/envs/default/lib/python3.8/site-packages (from yfinance) (1.21.5)\r\n",
      "Requirement already satisfied: requests>=2.26 in /opt/python/envs/default/lib/python3.8/site-packages (from yfinance) (2.26.0)\r\n",
      "Requirement already satisfied: pandas>=0.24.0 in /opt/python/envs/default/lib/python3.8/site-packages (from yfinance) (1.3.5)\r\n",
      "Requirement already satisfied: lxml>=4.5.1 in /opt/python/envs/default/lib/python3.8/site-packages (from yfinance) (4.7.1)\r\n",
      "Requirement already satisfied: pytz>=2017.3 in /opt/python/envs/default/lib/python3.8/site-packages (from pandas>=0.24.0->yfinance) (2021.3)\r\n",
      "Requirement already satisfied: python-dateutil>=2.7.3 in /opt/python/envs/default/lib/python3.8/site-packages (from pandas>=0.24.0->yfinance) (2.8.2)\r\n",
      "Requirement already satisfied: certifi>=2017.4.17 in /opt/python/envs/default/lib/python3.8/site-packages (from requests>=2.26->yfinance) (2021.10.8)\r\n",
      "Requirement already satisfied: charset-normalizer~=2.0.0 in /opt/python/envs/default/lib/python3.8/site-packages (from requests>=2.26->yfinance) (2.0.12)\r\n",
      "Requirement already satisfied: urllib3<1.27,>=1.21.1 in /opt/python/envs/default/lib/python3.8/site-packages (from requests>=2.26->yfinance) (1.26.8)\r\n",
      "Requirement already satisfied: idna<4,>=2.5 in /opt/python/envs/default/lib/python3.8/site-packages (from requests>=2.26->yfinance) (3.3)\r\n",
      "Requirement already satisfied: six>=1.5 in /opt/python/envs/default/lib/python3.8/site-packages (from python-dateutil>=2.7.3->pandas>=0.24.0->yfinance) (1.16.0)\r\n",
      "\u001b[33mWARNING: You are using pip version 21.3.1; however, version 22.0.3 is available.\r\n",
      "You should consider upgrading via the '/opt/python/envs/default/bin/python -m pip install --upgrade pip' command.\u001b[0m\r\n",
      "Requirement already satisfied: PyPortfolioOpt in /opt/python/envs/default/lib/python3.8/site-packages (1.5.1)\r\n",
      "Requirement already satisfied: cvxpy<2.0.0,>=1.1.10 in /opt/python/envs/default/lib/python3.8/site-packages (from PyPortfolioOpt) (1.1.18)\r\n",
      "Requirement already satisfied: scipy<2.0,>=1.3 in /opt/python/envs/default/lib/python3.8/site-packages (from PyPortfolioOpt) (1.7.3)\r\n",
      "Requirement already satisfied: numpy<2.0,>=1.12 in /opt/python/envs/default/lib/python3.8/site-packages (from PyPortfolioOpt) (1.21.5)\r\n",
      "Requirement already satisfied: pandas>=0.19 in /opt/python/envs/default/lib/python3.8/site-packages (from PyPortfolioOpt) (1.3.5)\r\n",
      "Requirement already satisfied: scs>=1.1.6 in /opt/python/envs/default/lib/python3.8/site-packages (from cvxpy<2.0.0,>=1.1.10->PyPortfolioOpt) (3.2.0)\r\n",
      "Requirement already satisfied: osqp>=0.4.1 in /opt/python/envs/default/lib/python3.8/site-packages (from cvxpy<2.0.0,>=1.1.10->PyPortfolioOpt) (0.6.2.post5)\r\n",
      "Requirement already satisfied: ecos>=2 in /opt/python/envs/default/lib/python3.8/site-packages (from cvxpy<2.0.0,>=1.1.10->PyPortfolioOpt) (2.0.10)\r\n",
      "Requirement already satisfied: python-dateutil>=2.7.3 in /opt/python/envs/default/lib/python3.8/site-packages (from pandas>=0.19->PyPortfolioOpt) (2.8.2)\r\n",
      "Requirement already satisfied: pytz>=2017.3 in /opt/python/envs/default/lib/python3.8/site-packages (from pandas>=0.19->PyPortfolioOpt) (2021.3)\r\n",
      "Requirement already satisfied: qdldl in /opt/python/envs/default/lib/python3.8/site-packages (from osqp>=0.4.1->cvxpy<2.0.0,>=1.1.10->PyPortfolioOpt) (0.1.5.post0)\r\n",
      "Requirement already satisfied: six>=1.5 in /opt/python/envs/default/lib/python3.8/site-packages (from python-dateutil>=2.7.3->pandas>=0.19->PyPortfolioOpt) (1.16.0)\r\n",
      "\u001b[33mWARNING: You are using pip version 21.3.1; however, version 22.0.3 is available.\r\n",
      "You should consider upgrading via the '/opt/python/envs/default/bin/python -m pip install --upgrade pip' command.\u001b[0m\r\n"
     ]
    }
   ],
   "source": [
    "# install necessary libs\n",
    "!pip install yfinance\n",
    "!pip install PyPortfolioOpt\n",
    "# load necessary libs\n",
    "import yfinance as yf\n",
    "import pandas as pd\n",
    "import matplotlib.pyplot as plt\n",
    "import numpy as np\n",
    "from pypfopt.efficient_frontier import EfficientFrontier"
   ]
  },
  {
   "cell_type": "code",
   "execution_count": null,
   "metadata": {
    "datalore": {
     "hide_input_from_viewers": false,
     "hide_output_from_viewers": false,
     "node_id": "fD0V51SBjuv8K3eTkV2xOF",
     "report_properties": {
      "rowId": "cowAXWN6tBhFBzhtKJR4UY"
     },
     "type": "CODE"
    }
   },
   "outputs": [
    {
     "name": "stdout",
     "output_type": "stream",
     "text": [
      "\r[*********************100%***********************]  1 of 1 completed\n",
      "\r[*********************100%***********************]  1 of 1 completed\n",
      "\r[*********************100%***********************]  1 of 1 completed\n",
      "\r[*********************100%***********************]  1 of 1 completed\n",
      "\r[*********************100%***********************]  1 of 1 completed\n",
      "\r[*********************100%***********************]  1 of 1 completed\n",
      "\r[*********************100%***********************]  1 of 1 completed\n",
      "\r[*********************100%***********************]  1 of 1 completed\n",
      "\r[*********************100%***********************]  1 of 1 completed\n",
      "\r[*********************100%***********************]  1 of 1 completed\n",
      "\r[*********************100%***********************]  1 of 1 completed\n",
      "\r[*********************100%***********************]  1 of 1 completed\n",
      "\r[*********************100%***********************]  1 of 1 completed\n",
      "\r[*********************100%***********************]  1 of 1 completed\n",
      "\r[*********************100%***********************]  1 of 1 completed\n"
     ]
    },
    {
     "data": {
      "text/html": [
       "<div>\n",
       "<style scoped>\n",
       "    .dataframe tbody tr th:only-of-type {\n",
       "        vertical-align: middle;\n",
       "    }\n",
       "\n",
       "    .dataframe tbody tr th {\n",
       "        vertical-align: top;\n",
       "    }\n",
       "\n",
       "    .dataframe thead th {\n",
       "        text-align: right;\n",
       "    }\n",
       "</style>\n",
       "<table border=\"1\" class=\"dataframe\">\n",
       "  <thead>\n",
       "    <tr style=\"text-align: right;\">\n",
       "      <th></th>\n",
       "      <th>AAPL</th>\n",
       "      <th>MSFT</th>\n",
       "      <th>AMZN</th>\n",
       "      <th>GOOGL</th>\n",
       "      <th>TSLA</th>\n",
       "      <th>NVDA</th>\n",
       "      <th>FB</th>\n",
       "      <th>JPM</th>\n",
       "      <th>UNH</th>\n",
       "      <th>JNJ</th>\n",
       "      <th>PG</th>\n",
       "      <th>V</th>\n",
       "      <th>HD</th>\n",
       "      <th>BAC</th>\n",
       "      <th>XOM</th>\n",
       "    </tr>\n",
       "    <tr>\n",
       "      <th>Date</th>\n",
       "      <th></th>\n",
       "      <th></th>\n",
       "      <th></th>\n",
       "      <th></th>\n",
       "      <th></th>\n",
       "      <th></th>\n",
       "      <th></th>\n",
       "      <th></th>\n",
       "      <th></th>\n",
       "      <th></th>\n",
       "      <th></th>\n",
       "      <th></th>\n",
       "      <th></th>\n",
       "      <th></th>\n",
       "      <th></th>\n",
       "    </tr>\n",
       "  </thead>\n",
       "  <tbody>\n",
       "    <tr>\n",
       "      <th>2015-01-02</th>\n",
       "      <td>27.332500</td>\n",
       "      <td>46.759998</td>\n",
       "      <td>308.519989</td>\n",
       "      <td>529.549988</td>\n",
       "      <td>43.862000</td>\n",
       "      <td>5.0325</td>\n",
       "      <td>78.449997</td>\n",
       "      <td>62.490002</td>\n",
       "      <td>100.779999</td>\n",
       "      <td>104.519997</td>\n",
       "      <td>90.440002</td>\n",
       "      <td>66.254997</td>\n",
       "      <td>103.430000</td>\n",
       "      <td>17.900000</td>\n",
       "      <td>92.830002</td>\n",
       "    </tr>\n",
       "    <tr>\n",
       "      <th>2015-01-05</th>\n",
       "      <td>26.562500</td>\n",
       "      <td>46.330002</td>\n",
       "      <td>302.190002</td>\n",
       "      <td>519.460022</td>\n",
       "      <td>42.018002</td>\n",
       "      <td>4.9475</td>\n",
       "      <td>77.190002</td>\n",
       "      <td>60.549999</td>\n",
       "      <td>99.120003</td>\n",
       "      <td>103.790001</td>\n",
       "      <td>90.010002</td>\n",
       "      <td>64.792503</td>\n",
       "      <td>101.260002</td>\n",
       "      <td>17.379999</td>\n",
       "      <td>90.290001</td>\n",
       "    </tr>\n",
       "    <tr>\n",
       "      <th>2015-01-06</th>\n",
       "      <td>26.565001</td>\n",
       "      <td>45.650002</td>\n",
       "      <td>295.290009</td>\n",
       "      <td>506.640015</td>\n",
       "      <td>42.256001</td>\n",
       "      <td>4.7975</td>\n",
       "      <td>76.150002</td>\n",
       "      <td>58.980000</td>\n",
       "      <td>98.919998</td>\n",
       "      <td>103.279999</td>\n",
       "      <td>89.599998</td>\n",
       "      <td>64.375000</td>\n",
       "      <td>100.949997</td>\n",
       "      <td>16.860001</td>\n",
       "      <td>89.809998</td>\n",
       "    </tr>\n",
       "    <tr>\n",
       "      <th>2015-01-07</th>\n",
       "      <td>26.937500</td>\n",
       "      <td>46.230000</td>\n",
       "      <td>298.420013</td>\n",
       "      <td>505.149994</td>\n",
       "      <td>42.189999</td>\n",
       "      <td>4.7850</td>\n",
       "      <td>76.150002</td>\n",
       "      <td>59.070000</td>\n",
       "      <td>99.930000</td>\n",
       "      <td>105.559998</td>\n",
       "      <td>90.070000</td>\n",
       "      <td>65.237503</td>\n",
       "      <td>104.410004</td>\n",
       "      <td>16.940001</td>\n",
       "      <td>90.720001</td>\n",
       "    </tr>\n",
       "    <tr>\n",
       "      <th>2015-01-08</th>\n",
       "      <td>27.972500</td>\n",
       "      <td>47.590000</td>\n",
       "      <td>300.459991</td>\n",
       "      <td>506.910004</td>\n",
       "      <td>42.124001</td>\n",
       "      <td>4.9650</td>\n",
       "      <td>78.180000</td>\n",
       "      <td>60.389999</td>\n",
       "      <td>104.699997</td>\n",
       "      <td>106.389999</td>\n",
       "      <td>91.099998</td>\n",
       "      <td>66.112503</td>\n",
       "      <td>106.720001</td>\n",
       "      <td>17.290001</td>\n",
       "      <td>92.230003</td>\n",
       "    </tr>\n",
       "  </tbody>\n",
       "</table>\n",
       "</div>"
      ]
     },
     "metadata": {},
     "output_type": "display_data"
    }
   ],
   "source": [
    "# import closing price data\n",
    "# 2nd part 'MA','PFE','DIS','CVX','ABBV','AVGO','KO','WFC','ADBE','PEP','CSCO','COST','TMO','ABT','VZ'\n",
    "assets = ['AAPL','MSFT','AMZN','GOOGL','TSLA','NVDA','FB','JPM','UNH',\n",
    "          'JNJ','PG','V','HD','BAC','XOM']\n",
    "df = pd.DataFrame()\n",
    "for i in assets:\n",
    " df[i] = yf.download(i,'2015-01-01',end='2022-02-01')['Close']\n",
    "df.head(5)"
   ]
  },
  {
   "attachments": {},
   "cell_type": "markdown",
   "metadata": {
    "datalore": {
     "hide_input_from_viewers": false,
     "hide_output_from_viewers": false,
     "node_id": "dNCnBTVtn3H0OjTHbMhPvR",
     "report_properties": {
      "rowId": "cowAXWN6tBhFBzhtKJR4UY"
     },
     "type": "MD"
    }
   },
   "source": [
    "## Conservative Investor Portfolio (Minimizing volatility)"
   ]
  },
  {
   "cell_type": "code",
   "execution_count": null,
   "metadata": {
    "datalore": {
     "hide_input_from_viewers": false,
     "hide_output_from_viewers": false,
     "node_id": "rCTj29Aq7RE1N6nTiC2Rjw",
     "report_properties": {
      "rowId": "cowAXWN6tBhFBzhtKJR4UY"
     },
     "type": "CODE"
    }
   },
   "outputs": [
    {
     "data": {
      "text/html": [
       "<div>\n",
       "<style scoped>\n",
       "    .dataframe tbody tr th:only-of-type {\n",
       "        vertical-align: middle;\n",
       "    }\n",
       "\n",
       "    .dataframe tbody tr th {\n",
       "        vertical-align: top;\n",
       "    }\n",
       "\n",
       "    .dataframe thead th {\n",
       "        text-align: right;\n",
       "    }\n",
       "</style>\n",
       "<table border=\"1\" class=\"dataframe\">\n",
       "  <thead>\n",
       "    <tr style=\"text-align: right;\">\n",
       "      <th></th>\n",
       "      <th>AAPL</th>\n",
       "      <th>MSFT</th>\n",
       "      <th>AMZN</th>\n",
       "      <th>GOOGL</th>\n",
       "      <th>TSLA</th>\n",
       "      <th>NVDA</th>\n",
       "      <th>FB</th>\n",
       "      <th>JPM</th>\n",
       "      <th>UNH</th>\n",
       "      <th>JNJ</th>\n",
       "      <th>PG</th>\n",
       "      <th>V</th>\n",
       "      <th>HD</th>\n",
       "      <th>BAC</th>\n",
       "      <th>XOM</th>\n",
       "      <th>portfolio</th>\n",
       "    </tr>\n",
       "    <tr>\n",
       "      <th>Date</th>\n",
       "      <th></th>\n",
       "      <th></th>\n",
       "      <th></th>\n",
       "      <th></th>\n",
       "      <th></th>\n",
       "      <th></th>\n",
       "      <th></th>\n",
       "      <th></th>\n",
       "      <th></th>\n",
       "      <th></th>\n",
       "      <th></th>\n",
       "      <th></th>\n",
       "      <th></th>\n",
       "      <th></th>\n",
       "      <th></th>\n",
       "      <th></th>\n",
       "    </tr>\n",
       "  </thead>\n",
       "  <tbody>\n",
       "    <tr>\n",
       "      <th>2015-01-02</th>\n",
       "      <td>1.000000</td>\n",
       "      <td>1.000000</td>\n",
       "      <td>1.000000</td>\n",
       "      <td>1.000000</td>\n",
       "      <td>1.000000</td>\n",
       "      <td>1.000000</td>\n",
       "      <td>1.000000</td>\n",
       "      <td>1.000000</td>\n",
       "      <td>1.000000</td>\n",
       "      <td>1.000000</td>\n",
       "      <td>1.000000</td>\n",
       "      <td>1.000000</td>\n",
       "      <td>1.000000</td>\n",
       "      <td>1.000000</td>\n",
       "      <td>1.000000</td>\n",
       "      <td>1.0</td>\n",
       "    </tr>\n",
       "    <tr>\n",
       "      <th>2015-01-05</th>\n",
       "      <td>-0.028172</td>\n",
       "      <td>-0.009196</td>\n",
       "      <td>-0.020517</td>\n",
       "      <td>-0.019054</td>\n",
       "      <td>-0.042041</td>\n",
       "      <td>-0.016890</td>\n",
       "      <td>-0.016061</td>\n",
       "      <td>-0.031045</td>\n",
       "      <td>-0.016471</td>\n",
       "      <td>-0.006984</td>\n",
       "      <td>-0.004755</td>\n",
       "      <td>-0.022074</td>\n",
       "      <td>-0.020980</td>\n",
       "      <td>-0.029050</td>\n",
       "      <td>-0.027362</td>\n",
       "      <td>0.0</td>\n",
       "    </tr>\n",
       "    <tr>\n",
       "      <th>2015-01-06</th>\n",
       "      <td>0.000094</td>\n",
       "      <td>-0.014677</td>\n",
       "      <td>-0.022833</td>\n",
       "      <td>-0.024679</td>\n",
       "      <td>0.005664</td>\n",
       "      <td>-0.030318</td>\n",
       "      <td>-0.013473</td>\n",
       "      <td>-0.025929</td>\n",
       "      <td>-0.002018</td>\n",
       "      <td>-0.004914</td>\n",
       "      <td>-0.004555</td>\n",
       "      <td>-0.006444</td>\n",
       "      <td>-0.003061</td>\n",
       "      <td>-0.029919</td>\n",
       "      <td>-0.005316</td>\n",
       "      <td>0.0</td>\n",
       "    </tr>\n",
       "    <tr>\n",
       "      <th>2015-01-07</th>\n",
       "      <td>0.014022</td>\n",
       "      <td>0.012705</td>\n",
       "      <td>0.010600</td>\n",
       "      <td>-0.002941</td>\n",
       "      <td>-0.001562</td>\n",
       "      <td>-0.002606</td>\n",
       "      <td>0.000000</td>\n",
       "      <td>0.001526</td>\n",
       "      <td>0.010210</td>\n",
       "      <td>0.022076</td>\n",
       "      <td>0.005246</td>\n",
       "      <td>0.013398</td>\n",
       "      <td>0.034274</td>\n",
       "      <td>0.004745</td>\n",
       "      <td>0.010133</td>\n",
       "      <td>0.0</td>\n",
       "    </tr>\n",
       "    <tr>\n",
       "      <th>2015-01-08</th>\n",
       "      <td>0.038422</td>\n",
       "      <td>0.029418</td>\n",
       "      <td>0.006836</td>\n",
       "      <td>0.003484</td>\n",
       "      <td>-0.001564</td>\n",
       "      <td>0.037618</td>\n",
       "      <td>0.026658</td>\n",
       "      <td>0.022346</td>\n",
       "      <td>0.047733</td>\n",
       "      <td>0.007863</td>\n",
       "      <td>0.011436</td>\n",
       "      <td>0.013413</td>\n",
       "      <td>0.022124</td>\n",
       "      <td>0.020661</td>\n",
       "      <td>0.016645</td>\n",
       "      <td>0.0</td>\n",
       "    </tr>\n",
       "  </tbody>\n",
       "</table>\n",
       "</div>"
      ]
     },
     "metadata": {},
     "output_type": "display_data"
    }
   ],
   "source": [
    "# calculate the percent change each day\n",
    "returns = df.pct_change()\n",
    "#add first row filled with ones\n",
    "returns_with_p = returns.copy()\n",
    "returns_with_p['portfolio'] = np.zeros(shape=len(returns))\n",
    "returns_with_p.iloc[0] = np.ones(shape=len(assets)+1)\n",
    "returns_with_p.head(5)"
   ]
  },
  {
   "cell_type": "code",
   "execution_count": null,
   "metadata": {
    "datalore": {
     "controls_state": [
      {
       "label": "Step",
       "max": "60",
       "maxExpression": "",
       "min": "10",
       "minExpression": "",
       "step": "5",
       "stepExpression": "",
       "type": "SLIDER",
       "value": "30",
       "variable": "step"
      }
     ],
     "hide_input_from_viewers": false,
     "hide_output_from_viewers": false,
     "node_id": "6HD2xk3YcQn8YVE2NwJxWL",
     "report_properties": {
      "rowId": "cowAXWN6tBhFBzhtKJR4UY"
     },
     "type": "CONTROL"
    }
   },
   "outputs": [],
   "source": [
    "step = 30"
   ]
  },
  {
   "cell_type": "code",
   "execution_count": null,
   "metadata": {
    "datalore": {
     "controls_state": [
      {
       "label": "Window Size",
       "max": "200",
       "maxExpression": "",
       "min": "100",
       "minExpression": "",
       "step": "5",
       "stepExpression": "",
       "type": "SLIDER",
       "value": "125",
       "variable": "window"
      }
     ],
     "hide_input_from_viewers": false,
     "hide_output_from_viewers": false,
     "node_id": "YiuP84B83PbDLmPkWutxBB",
     "report_properties": {
      "rowId": "cowAXWN6tBhFBzhtKJR4UY"
     },
     "type": "CONTROL"
    }
   },
   "outputs": [],
   "source": [
    "window = 125"
   ]
  },
  {
   "cell_type": "code",
   "execution_count": null,
   "metadata": {
    "datalore": {
     "hide_input_from_viewers": false,
     "hide_output_from_viewers": false,
     "node_id": "ppJrVm4SN6wEfdYsgFxMVg",
     "report_properties": {
      "rowId": "cowAXWN6tBhFBzhtKJR4UY"
     },
     "type": "CODE"
    }
   },
   "outputs": [
    {
     "data": {
      "text/html": [
       "<div>\n",
       "<style scoped>\n",
       "    .dataframe tbody tr th:only-of-type {\n",
       "        vertical-align: middle;\n",
       "    }\n",
       "\n",
       "    .dataframe tbody tr th {\n",
       "        vertical-align: top;\n",
       "    }\n",
       "\n",
       "    .dataframe thead th {\n",
       "        text-align: right;\n",
       "    }\n",
       "</style>\n",
       "<table border=\"1\" class=\"dataframe\">\n",
       "  <thead>\n",
       "    <tr style=\"text-align: right;\">\n",
       "      <th></th>\n",
       "      <th>AAPL</th>\n",
       "      <th>MSFT</th>\n",
       "      <th>AMZN</th>\n",
       "      <th>GOOGL</th>\n",
       "      <th>TSLA</th>\n",
       "      <th>NVDA</th>\n",
       "      <th>FB</th>\n",
       "      <th>JPM</th>\n",
       "      <th>UNH</th>\n",
       "      <th>JNJ</th>\n",
       "      <th>PG</th>\n",
       "      <th>V</th>\n",
       "      <th>HD</th>\n",
       "      <th>BAC</th>\n",
       "      <th>XOM</th>\n",
       "      <th>portfolio</th>\n",
       "    </tr>\n",
       "    <tr>\n",
       "      <th>Date</th>\n",
       "      <th></th>\n",
       "      <th></th>\n",
       "      <th></th>\n",
       "      <th></th>\n",
       "      <th></th>\n",
       "      <th></th>\n",
       "      <th></th>\n",
       "      <th></th>\n",
       "      <th></th>\n",
       "      <th></th>\n",
       "      <th></th>\n",
       "      <th></th>\n",
       "      <th></th>\n",
       "      <th></th>\n",
       "      <th></th>\n",
       "      <th></th>\n",
       "    </tr>\n",
       "  </thead>\n",
       "  <tbody>\n",
       "    <tr>\n",
       "      <th>2015-01-02</th>\n",
       "      <td>1.000000</td>\n",
       "      <td>1.000000</td>\n",
       "      <td>1.000000</td>\n",
       "      <td>1.000000</td>\n",
       "      <td>1.000000</td>\n",
       "      <td>1.000000</td>\n",
       "      <td>1.000000</td>\n",
       "      <td>1.000000</td>\n",
       "      <td>1.000000</td>\n",
       "      <td>1.000000</td>\n",
       "      <td>1.000000</td>\n",
       "      <td>1.000000</td>\n",
       "      <td>1.000000</td>\n",
       "      <td>1.000000</td>\n",
       "      <td>1.000000</td>\n",
       "      <td>1.0</td>\n",
       "    </tr>\n",
       "    <tr>\n",
       "      <th>2015-01-05</th>\n",
       "      <td>-0.028172</td>\n",
       "      <td>-0.009196</td>\n",
       "      <td>-0.020517</td>\n",
       "      <td>-0.019054</td>\n",
       "      <td>-0.042041</td>\n",
       "      <td>-0.016890</td>\n",
       "      <td>-0.016061</td>\n",
       "      <td>-0.031045</td>\n",
       "      <td>-0.016471</td>\n",
       "      <td>-0.006984</td>\n",
       "      <td>-0.004755</td>\n",
       "      <td>-0.022074</td>\n",
       "      <td>-0.020980</td>\n",
       "      <td>-0.029050</td>\n",
       "      <td>-0.027362</td>\n",
       "      <td>0.0</td>\n",
       "    </tr>\n",
       "    <tr>\n",
       "      <th>2015-01-06</th>\n",
       "      <td>0.000094</td>\n",
       "      <td>-0.014677</td>\n",
       "      <td>-0.022833</td>\n",
       "      <td>-0.024679</td>\n",
       "      <td>0.005664</td>\n",
       "      <td>-0.030318</td>\n",
       "      <td>-0.013473</td>\n",
       "      <td>-0.025929</td>\n",
       "      <td>-0.002018</td>\n",
       "      <td>-0.004914</td>\n",
       "      <td>-0.004555</td>\n",
       "      <td>-0.006444</td>\n",
       "      <td>-0.003061</td>\n",
       "      <td>-0.029919</td>\n",
       "      <td>-0.005316</td>\n",
       "      <td>0.0</td>\n",
       "    </tr>\n",
       "    <tr>\n",
       "      <th>2015-01-07</th>\n",
       "      <td>0.014022</td>\n",
       "      <td>0.012705</td>\n",
       "      <td>0.010600</td>\n",
       "      <td>-0.002941</td>\n",
       "      <td>-0.001562</td>\n",
       "      <td>-0.002606</td>\n",
       "      <td>0.000000</td>\n",
       "      <td>0.001526</td>\n",
       "      <td>0.010210</td>\n",
       "      <td>0.022076</td>\n",
       "      <td>0.005246</td>\n",
       "      <td>0.013398</td>\n",
       "      <td>0.034274</td>\n",
       "      <td>0.004745</td>\n",
       "      <td>0.010133</td>\n",
       "      <td>0.0</td>\n",
       "    </tr>\n",
       "    <tr>\n",
       "      <th>2015-01-08</th>\n",
       "      <td>0.038422</td>\n",
       "      <td>0.029418</td>\n",
       "      <td>0.006836</td>\n",
       "      <td>0.003484</td>\n",
       "      <td>-0.001564</td>\n",
       "      <td>0.037618</td>\n",
       "      <td>0.026658</td>\n",
       "      <td>0.022346</td>\n",
       "      <td>0.047733</td>\n",
       "      <td>0.007863</td>\n",
       "      <td>0.011436</td>\n",
       "      <td>0.013413</td>\n",
       "      <td>0.022124</td>\n",
       "      <td>0.020661</td>\n",
       "      <td>0.016645</td>\n",
       "      <td>0.0</td>\n",
       "    </tr>\n",
       "  </tbody>\n",
       "</table>\n",
       "</div>"
      ]
     },
     "metadata": {},
     "output_type": "display_data"
    }
   ],
   "source": [
    "# run the optimization for minimal volatility\n",
    "weights_rolling = pd.DataFrame()\n",
    "\n",
    "i=0\n",
    "ind = 1\n",
    "ind_w = window\n",
    "\n",
    "while i < len(returns):\n",
    "    expected_return = returns.iloc[i:i+window,:].mean()\n",
    "    covariance = returns.iloc[i:i+window,:].cov()\n",
    "    ef = EfficientFrontier(expected_return, covariance)\n",
    "    ef.min_volatility()\n",
    "    efweights = np.mat(ef.weights)\n",
    "    weights_rolling[ind] = pd.DataFrame.from_dict(ef.clean_weights(),orient='index')\n",
    "    returns_with_p.iloc[ind_w:(ind_w+step),len(assets)] = np.dot(returns_with_p.iloc[ind_w:(ind_w+step),0:len(assets)],efweights.T)\n",
    "    i += step\n",
    "    ind += 1\n",
    "    ind_w += step\n",
    "returns_with_p.head(5)"
   ]
  },
  {
   "cell_type": "code",
   "execution_count": null,
   "metadata": {
    "datalore": {
     "hide_input_from_viewers": false,
     "hide_output_from_viewers": false,
     "node_id": "YwoYSo4Zb0m9cq6BPoLTDv",
     "report_properties": {
      "rowId": "cowAXWN6tBhFBzhtKJR4UY"
     },
     "type": "CODE"
    }
   },
   "outputs": [
    {
     "data": {
      "image/png": "[encoded data removed]"
     },
     "metadata": {
      "image/png": {}
     },
     "output_type": "display_data"
    }
   ],
   "source": [
    "cweights = weights_rolling.T\n",
    "\n",
    "cweights.plot(\n",
    "    kind = 'bar',\n",
    "    stacked = True,\n",
    "    title = 'Portfolio Weights Across Iterations (Conservative)',\n",
    "    mark_right = True)\n",
    "\n",
    "plt.xlabel('Interations')\n",
    "plt.ylabel('Weights')\n",
    "plt.legend(loc=\"lower left\", bbox_to_anchor = (1, -0.05))\n",
    "plt.tight_layout()\n",
    "plt.savefig('Portfolio Weights Across Iterations (Conservative).png', dpi=500)"
   ]
  },
  {
   "cell_type": "code",
   "execution_count": null,
   "metadata": {
    "datalore": {
     "controls_state": [
      {
       "label": "Threshold (pie chart) (in %)",
       "max": "50",
       "maxExpression": "",
       "min": "0",
       "minExpression": "",
       "step": "1",
       "stepExpression": "",
       "type": "SLIDER",
       "value": "6",
       "variable": "threshold_pie"
      }
     ],
     "hide_input_from_viewers": false,
     "hide_output_from_viewers": false,
     "node_id": "YB01yfOO1E7Ws02j9d9icT",
     "report_properties": {
      "rowId": "cowAXWN6tBhFBzhtKJR4UY"
     },
     "type": "CONTROL"
    }
   },
   "outputs": [],
   "source": [
    "threshold_pie = 6"
   ]
  },
  {
   "cell_type": "code",
   "execution_count": null,
   "metadata": {
    "datalore": {
     "hide_input_from_viewers": false,
     "hide_output_from_viewers": false,
     "node_id": "GJm0Nh4LIk4ObARnHnp1dW",
     "report_properties": {
      "rowId": "cowAXWN6tBhFBzhtKJR4UY"
     },
     "type": "CODE"
    }
   },
   "outputs": [
    {
     "data": {
      "image/png": "[encoded data removed]"
     },
     "metadata": {
      "image/png": {}
     },
     "output_type": "display_data"
    }
   ],
   "source": [
    "#drop all 0 values \n",
    "avg_weights = cweights.sum()\n",
    "# avg_weights.columns = ['Sum of weights']\n",
    "\n",
    "others = avg_weights.loc[(avg_weights<((avg_weights.sum()/100)*threshold_pie))]\n",
    "avg_weights = avg_weights.loc[~(avg_weights<((avg_weights.sum()/100)*threshold_pie))]\n",
    "avg_weights['Others'] = others.sum()\n",
    "\n",
    "fig, ax = plt.subplots(figsize=(6, 6))\n",
    "x = avg_weights.values\n",
    "labels = avg_weights.index.values\n",
    "\n",
    "patches, texts, pcts = ax.pie(\n",
    "    x, labels=labels, autopct='%.1f%%',\n",
    "    wedgeprops={'linewidth': 3.0, 'edgecolor': 'white'},\n",
    "    textprops={'size': 'x-large'})\n",
    "\n",
    "plt.setp(pcts, color='white', fontweight='bold')\n",
    "ax.set_title('Average Portfolio Weights (Convervative)', fontsize=18)\n",
    "plt.tight_layout()\n",
    "plt.savefig('Average Portfolio Weights (Conservative).png', dpi=500)"
   ]
  },
  {
   "cell_type": "code",
   "execution_count": null,
   "metadata": {
    "datalore": {
     "hide_input_from_viewers": false,
     "hide_output_from_viewers": false,
     "node_id": "MZS9yZPx3xl6SbvYuj7v9V",
     "report_properties": {
      "rowId": "cowAXWN6tBhFBzhtKJR4UY"
     },
     "type": "CODE"
    }
   },
   "outputs": [
    {
     "data": {
      "text/html": [
       "<div>\n",
       "<style scoped>\n",
       "    .dataframe tbody tr th:only-of-type {\n",
       "        vertical-align: middle;\n",
       "    }\n",
       "\n",
       "    .dataframe tbody tr th {\n",
       "        vertical-align: top;\n",
       "    }\n",
       "\n",
       "    .dataframe thead th {\n",
       "        text-align: right;\n",
       "    }\n",
       "</style>\n",
       "<table border=\"1\" class=\"dataframe\">\n",
       "  <thead>\n",
       "    <tr style=\"text-align: right;\">\n",
       "      <th></th>\n",
       "      <th>AAPL</th>\n",
       "      <th>MSFT</th>\n",
       "      <th>AMZN</th>\n",
       "      <th>GOOGL</th>\n",
       "      <th>TSLA</th>\n",
       "      <th>NVDA</th>\n",
       "      <th>FB</th>\n",
       "      <th>JPM</th>\n",
       "      <th>UNH</th>\n",
       "      <th>JNJ</th>\n",
       "      <th>PG</th>\n",
       "      <th>V</th>\n",
       "      <th>HD</th>\n",
       "      <th>BAC</th>\n",
       "      <th>XOM</th>\n",
       "      <th>portfolio</th>\n",
       "      <th>yield curve</th>\n",
       "    </tr>\n",
       "    <tr>\n",
       "      <th>Date</th>\n",
       "      <th></th>\n",
       "      <th></th>\n",
       "      <th></th>\n",
       "      <th></th>\n",
       "      <th></th>\n",
       "      <th></th>\n",
       "      <th></th>\n",
       "      <th></th>\n",
       "      <th></th>\n",
       "      <th></th>\n",
       "      <th></th>\n",
       "      <th></th>\n",
       "      <th></th>\n",
       "      <th></th>\n",
       "      <th></th>\n",
       "      <th></th>\n",
       "      <th></th>\n",
       "    </tr>\n",
       "  </thead>\n",
       "  <tbody>\n",
       "    <tr>\n",
       "      <th>2015-01-02</th>\n",
       "      <td>1.000000</td>\n",
       "      <td>1.000000</td>\n",
       "      <td>1.000000</td>\n",
       "      <td>1.000000</td>\n",
       "      <td>1.000000</td>\n",
       "      <td>1.000000</td>\n",
       "      <td>1.000000</td>\n",
       "      <td>1.000000</td>\n",
       "      <td>1.000000</td>\n",
       "      <td>1.000000</td>\n",
       "      <td>1.000000</td>\n",
       "      <td>1.000000</td>\n",
       "      <td>1.000000</td>\n",
       "      <td>1.000000</td>\n",
       "      <td>1.000000</td>\n",
       "      <td>1.000000</td>\n",
       "      <td>1.000000</td>\n",
       "    </tr>\n",
       "    <tr>\n",
       "      <th>2015-01-05</th>\n",
       "      <td>-0.028172</td>\n",
       "      <td>-0.009196</td>\n",
       "      <td>-0.020517</td>\n",
       "      <td>-0.019054</td>\n",
       "      <td>-0.042041</td>\n",
       "      <td>-0.016890</td>\n",
       "      <td>-0.016061</td>\n",
       "      <td>-0.031045</td>\n",
       "      <td>-0.016471</td>\n",
       "      <td>-0.006984</td>\n",
       "      <td>-0.004755</td>\n",
       "      <td>-0.022074</td>\n",
       "      <td>-0.020980</td>\n",
       "      <td>-0.029050</td>\n",
       "      <td>-0.027362</td>\n",
       "      <td>0.000000</td>\n",
       "      <td>1.000000</td>\n",
       "    </tr>\n",
       "    <tr>\n",
       "      <th>2015-01-06</th>\n",
       "      <td>0.000094</td>\n",
       "      <td>-0.014677</td>\n",
       "      <td>-0.022833</td>\n",
       "      <td>-0.024679</td>\n",
       "      <td>0.005664</td>\n",
       "      <td>-0.030318</td>\n",
       "      <td>-0.013473</td>\n",
       "      <td>-0.025929</td>\n",
       "      <td>-0.002018</td>\n",
       "      <td>-0.004914</td>\n",
       "      <td>-0.004555</td>\n",
       "      <td>-0.006444</td>\n",
       "      <td>-0.003061</td>\n",
       "      <td>-0.029919</td>\n",
       "      <td>-0.005316</td>\n",
       "      <td>0.000000</td>\n",
       "      <td>1.000000</td>\n",
       "    </tr>\n",
       "    <tr>\n",
       "      <th>2015-01-07</th>\n",
       "      <td>0.014022</td>\n",
       "      <td>0.012705</td>\n",
       "      <td>0.010600</td>\n",
       "      <td>-0.002941</td>\n",
       "      <td>-0.001562</td>\n",
       "      <td>-0.002606</td>\n",
       "      <td>0.000000</td>\n",
       "      <td>0.001526</td>\n",
       "      <td>0.010210</td>\n",
       "      <td>0.022076</td>\n",
       "      <td>0.005246</td>\n",
       "      <td>0.013398</td>\n",
       "      <td>0.034274</td>\n",
       "      <td>0.004745</td>\n",
       "      <td>0.010133</td>\n",
       "      <td>0.000000</td>\n",
       "      <td>1.000000</td>\n",
       "    </tr>\n",
       "    <tr>\n",
       "      <th>2015-01-08</th>\n",
       "      <td>0.038422</td>\n",
       "      <td>0.029418</td>\n",
       "      <td>0.006836</td>\n",
       "      <td>0.003484</td>\n",
       "      <td>-0.001564</td>\n",
       "      <td>0.037618</td>\n",
       "      <td>0.026658</td>\n",
       "      <td>0.022346</td>\n",
       "      <td>0.047733</td>\n",
       "      <td>0.007863</td>\n",
       "      <td>0.011436</td>\n",
       "      <td>0.013413</td>\n",
       "      <td>0.022124</td>\n",
       "      <td>0.020661</td>\n",
       "      <td>0.016645</td>\n",
       "      <td>0.000000</td>\n",
       "      <td>1.000000</td>\n",
       "    </tr>\n",
       "    <tr>\n",
       "      <th>...</th>\n",
       "      <td>...</td>\n",
       "      <td>...</td>\n",
       "      <td>...</td>\n",
       "      <td>...</td>\n",
       "      <td>...</td>\n",
       "      <td>...</td>\n",
       "      <td>...</td>\n",
       "      <td>...</td>\n",
       "      <td>...</td>\n",
       "      <td>...</td>\n",
       "      <td>...</td>\n",
       "      <td>...</td>\n",
       "      <td>...</td>\n",
       "      <td>...</td>\n",
       "      <td>...</td>\n",
       "      <td>...</td>\n",
       "      <td>...</td>\n",
       "    </tr>\n",
       "    <tr>\n",
       "      <th>2022-01-25</th>\n",
       "      <td>-0.011385</td>\n",
       "      <td>-0.026588</td>\n",
       "      <td>-0.031534</td>\n",
       "      <td>-0.029579</td>\n",
       "      <td>-0.012473</td>\n",
       "      <td>-0.044840</td>\n",
       "      <td>-0.027728</td>\n",
       "      <td>0.010900</td>\n",
       "      <td>-0.011746</td>\n",
       "      <td>0.028594</td>\n",
       "      <td>-0.010911</td>\n",
       "      <td>0.000743</td>\n",
       "      <td>-0.013276</td>\n",
       "      <td>0.019753</td>\n",
       "      <td>0.029400</td>\n",
       "      <td>0.003902</td>\n",
       "      <td>1.982155</td>\n",
       "    </tr>\n",
       "    <tr>\n",
       "      <th>2022-01-26</th>\n",
       "      <td>-0.000563</td>\n",
       "      <td>0.028493</td>\n",
       "      <td>-0.007954</td>\n",
       "      <td>0.018104</td>\n",
       "      <td>0.020699</td>\n",
       "      <td>0.020068</td>\n",
       "      <td>-0.018391</td>\n",
       "      <td>0.009486</td>\n",
       "      <td>0.003480</td>\n",
       "      <td>0.004474</td>\n",
       "      <td>-0.008713</td>\n",
       "      <td>0.019158</td>\n",
       "      <td>-0.004736</td>\n",
       "      <td>0.010346</td>\n",
       "      <td>-0.010143</td>\n",
       "      <td>-0.001526</td>\n",
       "      <td>1.980629</td>\n",
       "    </tr>\n",
       "    <tr>\n",
       "      <th>2022-01-27</th>\n",
       "      <td>-0.002943</td>\n",
       "      <td>0.010549</td>\n",
       "      <td>0.005509</td>\n",
       "      <td>-0.001764</td>\n",
       "      <td>-0.115542</td>\n",
       "      <td>-0.036360</td>\n",
       "      <td>0.000034</td>\n",
       "      <td>-0.017645</td>\n",
       "      <td>0.006915</td>\n",
       "      <td>0.013125</td>\n",
       "      <td>0.006197</td>\n",
       "      <td>0.001360</td>\n",
       "      <td>-0.002379</td>\n",
       "      <td>-0.009368</td>\n",
       "      <td>0.012808</td>\n",
       "      <td>0.003125</td>\n",
       "      <td>1.983753</td>\n",
       "    </tr>\n",
       "    <tr>\n",
       "      <th>2022-01-28</th>\n",
       "      <td>0.069778</td>\n",
       "      <td>0.028082</td>\n",
       "      <td>0.031084</td>\n",
       "      <td>0.033689</td>\n",
       "      <td>0.020806</td>\n",
       "      <td>0.040831</td>\n",
       "      <td>0.023995</td>\n",
       "      <td>0.008946</td>\n",
       "      <td>0.009662</td>\n",
       "      <td>0.007034</td>\n",
       "      <td>0.008609</td>\n",
       "      <td>0.105991</td>\n",
       "      <td>0.028365</td>\n",
       "      <td>0.008797</td>\n",
       "      <td>0.002130</td>\n",
       "      <td>0.012083</td>\n",
       "      <td>1.995836</td>\n",
       "    </tr>\n",
       "    <tr>\n",
       "      <th>2022-01-31</th>\n",
       "      <td>0.026126</td>\n",
       "      <td>0.008824</td>\n",
       "      <td>0.038864</td>\n",
       "      <td>0.014642</td>\n",
       "      <td>0.106776</td>\n",
       "      <td>0.072067</td>\n",
       "      <td>0.038282</td>\n",
       "      <td>0.013573</td>\n",
       "      <td>0.013968</td>\n",
       "      <td>0.002911</td>\n",
       "      <td>-0.000312</td>\n",
       "      <td>-0.008026</td>\n",
       "      <td>0.001200</td>\n",
       "      <td>0.005886</td>\n",
       "      <td>0.009033</td>\n",
       "      <td>0.010357</td>\n",
       "      <td>2.006194</td>\n",
       "    </tr>\n",
       "  </tbody>\n",
       "</table>\n",
       "<p>1783 rows × 17 columns</p>\n",
       "</div>"
      ]
     },
     "metadata": {},
     "output_type": "display_data"
    }
   ],
   "source": [
    "returns_with_p['yield curve'] = returns_with_p['portfolio'].cumsum()\n",
    "returns_with_p"
   ]
  },
  {
   "cell_type": "code",
   "execution_count": null,
   "metadata": {
    "datalore": {
     "hide_input_from_viewers": false,
     "hide_output_from_viewers": false,
     "node_id": "GbOqFBAgxXc9MoN1FEJwWV",
     "report_properties": {
      "rowId": "cowAXWN6tBhFBzhtKJR4UY"
     },
     "type": "CODE"
    }
   },
   "outputs": [
    {
     "data": {
      "image/png": "[encoded data removed]"
     },
     "metadata": {
      "image/png": {}
     },
     "output_type": "display_data"
    }
   ],
   "source": [
    "returns_with_p = returns_with_p.copy().iloc[window-1: , :]\n",
    "\n",
    "#plot the yield curve\n",
    "returns_with_p['yield curve'].plot(label = 'Overall return = {}'.format(np.round(float(returns_with_p['yield curve'].tail(1)),2)))\n",
    "plt.title('Yield Curve (Conservative)')\n",
    "plt.xlabel('Date')\n",
    "plt.ylabel('Cumulative return')\n",
    "plt.legend()\n",
    "plt.savefig('Yield Curve (Conservative).png', dpi=500)"
   ]
  },
  {
   "cell_type": "code",
   "execution_count": null,
   "metadata": {
    "datalore": {
     "hide_input_from_viewers": false,
     "hide_output_from_viewers": false,
     "node_id": "9OhEXIqjIoKOxQFBpkb01l",
     "report_properties": {
      "rowId": "cowAXWN6tBhFBzhtKJR4UY"
     },
     "type": "CODE"
    }
   },
   "outputs": [
    {
     "data": {
      "text/html": [
       "<div>\n",
       "<style scoped>\n",
       "    .dataframe tbody tr th:only-of-type {\n",
       "        vertical-align: middle;\n",
       "    }\n",
       "\n",
       "    .dataframe tbody tr th {\n",
       "        vertical-align: top;\n",
       "    }\n",
       "\n",
       "    .dataframe thead th {\n",
       "        text-align: right;\n",
       "    }\n",
       "</style>\n",
       "<table border=\"1\" class=\"dataframe\">\n",
       "  <thead>\n",
       "    <tr style=\"text-align: right;\">\n",
       "      <th></th>\n",
       "      <th>Conservative</th>\n",
       "    </tr>\n",
       "    <tr>\n",
       "      <th>Date</th>\n",
       "      <th></th>\n",
       "    </tr>\n",
       "  </thead>\n",
       "  <tbody>\n",
       "    <tr>\n",
       "      <th>2015-07-01</th>\n",
       "      <td>1.000000</td>\n",
       "    </tr>\n",
       "    <tr>\n",
       "      <th>2015-07-02</th>\n",
       "      <td>1.004072</td>\n",
       "    </tr>\n",
       "    <tr>\n",
       "      <th>2015-07-06</th>\n",
       "      <td>1.002196</td>\n",
       "    </tr>\n",
       "    <tr>\n",
       "      <th>2015-07-07</th>\n",
       "      <td>1.011886</td>\n",
       "    </tr>\n",
       "    <tr>\n",
       "      <th>2015-07-08</th>\n",
       "      <td>0.999515</td>\n",
       "    </tr>\n",
       "    <tr>\n",
       "      <th>...</th>\n",
       "      <td>...</td>\n",
       "    </tr>\n",
       "    <tr>\n",
       "      <th>2022-01-25</th>\n",
       "      <td>1.982155</td>\n",
       "    </tr>\n",
       "    <tr>\n",
       "      <th>2022-01-26</th>\n",
       "      <td>1.980629</td>\n",
       "    </tr>\n",
       "    <tr>\n",
       "      <th>2022-01-27</th>\n",
       "      <td>1.983753</td>\n",
       "    </tr>\n",
       "    <tr>\n",
       "      <th>2022-01-28</th>\n",
       "      <td>1.995836</td>\n",
       "    </tr>\n",
       "    <tr>\n",
       "      <th>2022-01-31</th>\n",
       "      <td>2.006194</td>\n",
       "    </tr>\n",
       "  </tbody>\n",
       "</table>\n",
       "<p>1659 rows × 1 columns</p>\n",
       "</div>"
      ]
     },
     "metadata": {},
     "output_type": "display_data"
    }
   ],
   "source": [
    "#save yield curve\n",
    "yields = pd.DataFrame()\n",
    "yields['Conservative'] = returns_with_p['yield curve']\n",
    "yields"
   ]
  },
  {
   "cell_type": "code",
   "execution_count": null,
   "metadata": {
    "datalore": {
     "controls_state": [
      {
       "label": "Risk-Free Rate",
       "max": "0.2",
       "maxExpression": "",
       "min": "0.01",
       "minExpression": "",
       "step": "0.01",
       "stepExpression": "",
       "type": "SLIDER",
       "value": "0.05",
       "variable": "risk_free_rate"
      }
     ],
     "hide_input_from_viewers": false,
     "hide_output_from_viewers": false,
     "node_id": "KLoG3GY86Wu5PNGQh4krx1",
     "report_properties": {
      "rowId": "cowAXWN6tBhFBzhtKJR4UY"
     },
     "type": "CONTROL"
    }
   },
   "outputs": [],
   "source": [
    "risk_free_rate = 0.05"
   ]
  },
  {
   "cell_type": "code",
   "execution_count": null,
   "metadata": {
    "datalore": {
     "hide_input_from_viewers": false,
     "hide_output_from_viewers": false,
     "node_id": "lRYTX4RADlgYuudPxaxBdG",
     "report_properties": {
      "rowId": "cowAXWN6tBhFBzhtKJR4UY"
     },
     "type": "CODE"
    }
   },
   "outputs": [],
   "source": [
    "p_variance = np.var(returns_with_p['portfolio'])*252\n",
    "p_volatility = np.sqrt(p_variance)\n",
    "p_return = np.mean(returns_with_p['portfolio'])*252\n",
    "p_sharpe = (p_return - risk_free_rate) / p_volatility "
   ]
  },
  {
   "cell_type": "code",
   "execution_count": null,
   "metadata": {
    "datalore": {
     "hide_input_from_viewers": false,
     "hide_output_from_viewers": false,
     "node_id": "Ju8zN7Oi9O80xjDfcw5kop",
     "report_properties": {
      "rowId": "cowAXWN6tBhFBzhtKJR4UY"
     },
     "type": "CODE"
    }
   },
   "outputs": [
    {
     "name": "stdout",
     "output_type": "stream",
     "text": [
      "Average annual return: 15.28%\n",
      "Annual volatility: 16.8%\n",
      "Sharpe ratio: 0.61\n"
     ]
    }
   ],
   "source": [
    "percent_vol = str(round((p_volatility*100),2))+'%'\n",
    "percent_return = str(round((p_return*100),2))+'%'\n",
    "sharpe_ratio = str(round(p_sharpe,2))\n",
    "\n",
    "\n",
    "print('Average annual return: ' + percent_return)\n",
    "print('Annual volatility: ' + percent_vol)\n",
    "print('Sharpe ratio: ' + sharpe_ratio)"
   ]
  },
  {
   "cell_type": "code",
   "execution_count": null,
   "metadata": {
    "datalore": {
     "hide_input_from_viewers": false,
     "hide_output_from_viewers": false,
     "node_id": "WPF9ZkyV12RZQWQYfx84EM",
     "report_properties": {
      "rowId": "cowAXWN6tBhFBzhtKJR4UY"
     },
     "type": "CODE"
    }
   },
   "outputs": [
    {
     "data": {
      "image/png": "[encoded data removed]"
     },
     "metadata": {
      "image/png": {}
     },
     "output_type": "display_data"
    }
   ],
   "source": [
    "returns_with_p['drawdown'] = returns_with_p['yield curve'] - returns_with_p[\"yield curve\"].cummax()\n",
    "returns_with_p['drawdown_percent'] = (returns_with_p['yield curve']/returns_with_p[\"yield curve\"].cummax())-1\n",
    "returns_with_p['drawdown_percent'].plot(color = 'red', label = 'Max Drawdown = {}%'.format(np.round(returns_with_p['drawdown_percent'].min(),3)*100))\n",
    "plt.title('Drawdown Graph (Conservative)')\n",
    "plt.xlabel('Date')\n",
    "plt.ylabel('Drawdown')\n",
    "plt.legend()\n",
    "plt.savefig('Drawdown graph (Conservative).png', dpi=500)"
   ]
  },
  {
   "cell_type": "code",
   "execution_count": null,
   "metadata": {
    "datalore": {
     "hide_input_from_viewers": false,
     "hide_output_from_viewers": false,
     "node_id": "rdDLGhCeW5zfwPyQhfYApO",
     "report_properties": {
      "rowId": "cowAXWN6tBhFBzhtKJR4UY"
     },
     "type": "CODE"
    }
   },
   "outputs": [
    {
     "data": {
      "text/html": [
       "<div>\n",
       "<style scoped>\n",
       "    .dataframe tbody tr th:only-of-type {\n",
       "        vertical-align: middle;\n",
       "    }\n",
       "\n",
       "    .dataframe tbody tr th {\n",
       "        vertical-align: top;\n",
       "    }\n",
       "\n",
       "    .dataframe thead th {\n",
       "        text-align: right;\n",
       "    }\n",
       "</style>\n",
       "<table border=\"1\" class=\"dataframe\">\n",
       "  <thead>\n",
       "    <tr style=\"text-align: right;\">\n",
       "      <th></th>\n",
       "      <th>Conservative</th>\n",
       "    </tr>\n",
       "    <tr>\n",
       "      <th>Date</th>\n",
       "      <th></th>\n",
       "    </tr>\n",
       "  </thead>\n",
       "  <tbody>\n",
       "    <tr>\n",
       "      <th>2015-07-01</th>\n",
       "      <td>0.000000</td>\n",
       "    </tr>\n",
       "    <tr>\n",
       "      <th>2015-07-02</th>\n",
       "      <td>0.000000</td>\n",
       "    </tr>\n",
       "    <tr>\n",
       "      <th>2015-07-06</th>\n",
       "      <td>-0.001868</td>\n",
       "    </tr>\n",
       "    <tr>\n",
       "      <th>2015-07-07</th>\n",
       "      <td>0.000000</td>\n",
       "    </tr>\n",
       "    <tr>\n",
       "      <th>2015-07-08</th>\n",
       "      <td>-0.012226</td>\n",
       "    </tr>\n",
       "    <tr>\n",
       "      <th>...</th>\n",
       "      <td>...</td>\n",
       "    </tr>\n",
       "    <tr>\n",
       "      <th>2022-01-25</th>\n",
       "      <td>-0.029025</td>\n",
       "    </tr>\n",
       "    <tr>\n",
       "      <th>2022-01-26</th>\n",
       "      <td>-0.029773</td>\n",
       "    </tr>\n",
       "    <tr>\n",
       "      <th>2022-01-27</th>\n",
       "      <td>-0.028243</td>\n",
       "    </tr>\n",
       "    <tr>\n",
       "      <th>2022-01-28</th>\n",
       "      <td>-0.022323</td>\n",
       "    </tr>\n",
       "    <tr>\n",
       "      <th>2022-01-31</th>\n",
       "      <td>-0.017250</td>\n",
       "    </tr>\n",
       "  </tbody>\n",
       "</table>\n",
       "<p>1659 rows × 1 columns</p>\n",
       "</div>"
      ]
     },
     "metadata": {},
     "output_type": "display_data"
    }
   ],
   "source": [
    "#save drawdowns\n",
    "drawdowns = pd.DataFrame()\n",
    "drawdowns['Conservative'] = returns_with_p['drawdown_percent']\n",
    "drawdowns"
   ]
  },
  {
   "cell_type": "code",
   "execution_count": null,
   "metadata": {
    "datalore": {
     "hide_input_from_viewers": false,
     "hide_output_from_viewers": false,
     "node_id": "oz6Gjy4XWlo7m3w6B3SLUT",
     "report_properties": {
      "rowId": "cowAXWN6tBhFBzhtKJR4UY"
     },
     "type": "CODE"
    }
   },
   "outputs": [
    {
     "name": "stdout",
     "output_type": "stream",
     "text": [
      "The longest recovery period is 164 trading days \n"
     ]
    }
   ],
   "source": [
    "count = 0\n",
    "prev = 0\n",
    "indexend = 0\n",
    "for i in range(0,len(returns_with_p['drawdown'])):\n",
    "    if returns_with_p['drawdown'][i] < 0:\n",
    "        count += 1\n",
    "    else:            \n",
    "      if count > prev:\n",
    "        prev = count\n",
    "        indexend = i\n",
    "      count = 0\n",
    "\n",
    "print(\"The longest recovery period is \"+str(prev)+\" trading days \")"
   ]
  },
  {
   "attachments": {},
   "cell_type": "markdown",
   "metadata": {
    "datalore": {
     "hide_input_from_viewers": false,
     "hide_output_from_viewers": false,
     "node_id": "Balanced Investor",
     "sheet_delimiter": true,
     "type": "MD"
    }
   },
   "source": [
    "# Balanced Investor"
   ]
  },
  {
   "attachments": {},
   "cell_type": "markdown",
   "metadata": {
    "datalore": {
     "hide_input_from_viewers": false,
     "hide_output_from_viewers": false,
     "node_id": "gehBvCgTKUXlPfkRMbZHwt",
     "report_properties": {
      "rowId": "cowAXWN6tBhFBzhtKJR4UY"
     },
     "type": "MD"
    }
   },
   "source": [
    "## Balanced Investor Portfolio (Maximizing Sharpe ratio)"
   ]
  },
  {
   "cell_type": "code",
   "execution_count": null,
   "metadata": {
    "datalore": {
     "hide_input_from_viewers": false,
     "hide_output_from_viewers": false,
     "node_id": "rYswRAZqiBJOdTBaycxYOJ",
     "report_properties": {
      "rowId": "cowAXWN6tBhFBzhtKJR4UY"
     },
     "type": "CODE"
    }
   },
   "outputs": [
    {
     "data": {
      "text/html": [
       "<div>\n",
       "<style scoped>\n",
       "    .dataframe tbody tr th:only-of-type {\n",
       "        vertical-align: middle;\n",
       "    }\n",
       "\n",
       "    .dataframe tbody tr th {\n",
       "        vertical-align: top;\n",
       "    }\n",
       "\n",
       "    .dataframe thead th {\n",
       "        text-align: right;\n",
       "    }\n",
       "</style>\n",
       "<table border=\"1\" class=\"dataframe\">\n",
       "  <thead>\n",
       "    <tr style=\"text-align: right;\">\n",
       "      <th></th>\n",
       "      <th>AAPL</th>\n",
       "      <th>MSFT</th>\n",
       "      <th>AMZN</th>\n",
       "      <th>GOOGL</th>\n",
       "      <th>TSLA</th>\n",
       "      <th>NVDA</th>\n",
       "      <th>FB</th>\n",
       "      <th>JPM</th>\n",
       "      <th>UNH</th>\n",
       "      <th>JNJ</th>\n",
       "      <th>PG</th>\n",
       "      <th>V</th>\n",
       "      <th>HD</th>\n",
       "      <th>BAC</th>\n",
       "      <th>XOM</th>\n",
       "      <th>portfolio</th>\n",
       "    </tr>\n",
       "    <tr>\n",
       "      <th>Date</th>\n",
       "      <th></th>\n",
       "      <th></th>\n",
       "      <th></th>\n",
       "      <th></th>\n",
       "      <th></th>\n",
       "      <th></th>\n",
       "      <th></th>\n",
       "      <th></th>\n",
       "      <th></th>\n",
       "      <th></th>\n",
       "      <th></th>\n",
       "      <th></th>\n",
       "      <th></th>\n",
       "      <th></th>\n",
       "      <th></th>\n",
       "      <th></th>\n",
       "    </tr>\n",
       "  </thead>\n",
       "  <tbody>\n",
       "    <tr>\n",
       "      <th>2015-01-02</th>\n",
       "      <td>1.000000</td>\n",
       "      <td>1.000000</td>\n",
       "      <td>1.000000</td>\n",
       "      <td>1.000000</td>\n",
       "      <td>1.000000</td>\n",
       "      <td>1.000000</td>\n",
       "      <td>1.000000</td>\n",
       "      <td>1.000000</td>\n",
       "      <td>1.000000</td>\n",
       "      <td>1.000000</td>\n",
       "      <td>1.000000</td>\n",
       "      <td>1.000000</td>\n",
       "      <td>1.000000</td>\n",
       "      <td>1.000000</td>\n",
       "      <td>1.000000</td>\n",
       "      <td>1.0</td>\n",
       "    </tr>\n",
       "    <tr>\n",
       "      <th>2015-01-05</th>\n",
       "      <td>-0.028172</td>\n",
       "      <td>-0.009196</td>\n",
       "      <td>-0.020517</td>\n",
       "      <td>-0.019054</td>\n",
       "      <td>-0.042041</td>\n",
       "      <td>-0.016890</td>\n",
       "      <td>-0.016061</td>\n",
       "      <td>-0.031045</td>\n",
       "      <td>-0.016471</td>\n",
       "      <td>-0.006984</td>\n",
       "      <td>-0.004755</td>\n",
       "      <td>-0.022074</td>\n",
       "      <td>-0.020980</td>\n",
       "      <td>-0.029050</td>\n",
       "      <td>-0.027362</td>\n",
       "      <td>0.0</td>\n",
       "    </tr>\n",
       "    <tr>\n",
       "      <th>2015-01-06</th>\n",
       "      <td>0.000094</td>\n",
       "      <td>-0.014677</td>\n",
       "      <td>-0.022833</td>\n",
       "      <td>-0.024679</td>\n",
       "      <td>0.005664</td>\n",
       "      <td>-0.030318</td>\n",
       "      <td>-0.013473</td>\n",
       "      <td>-0.025929</td>\n",
       "      <td>-0.002018</td>\n",
       "      <td>-0.004914</td>\n",
       "      <td>-0.004555</td>\n",
       "      <td>-0.006444</td>\n",
       "      <td>-0.003061</td>\n",
       "      <td>-0.029919</td>\n",
       "      <td>-0.005316</td>\n",
       "      <td>0.0</td>\n",
       "    </tr>\n",
       "    <tr>\n",
       "      <th>2015-01-07</th>\n",
       "      <td>0.014022</td>\n",
       "      <td>0.012705</td>\n",
       "      <td>0.010600</td>\n",
       "      <td>-0.002941</td>\n",
       "      <td>-0.001562</td>\n",
       "      <td>-0.002606</td>\n",
       "      <td>0.000000</td>\n",
       "      <td>0.001526</td>\n",
       "      <td>0.010210</td>\n",
       "      <td>0.022076</td>\n",
       "      <td>0.005246</td>\n",
       "      <td>0.013398</td>\n",
       "      <td>0.034274</td>\n",
       "      <td>0.004745</td>\n",
       "      <td>0.010133</td>\n",
       "      <td>0.0</td>\n",
       "    </tr>\n",
       "    <tr>\n",
       "      <th>2015-01-08</th>\n",
       "      <td>0.038422</td>\n",
       "      <td>0.029418</td>\n",
       "      <td>0.006836</td>\n",
       "      <td>0.003484</td>\n",
       "      <td>-0.001564</td>\n",
       "      <td>0.037618</td>\n",
       "      <td>0.026658</td>\n",
       "      <td>0.022346</td>\n",
       "      <td>0.047733</td>\n",
       "      <td>0.007863</td>\n",
       "      <td>0.011436</td>\n",
       "      <td>0.013413</td>\n",
       "      <td>0.022124</td>\n",
       "      <td>0.020661</td>\n",
       "      <td>0.016645</td>\n",
       "      <td>0.0</td>\n",
       "    </tr>\n",
       "  </tbody>\n",
       "</table>\n",
       "</div>"
      ]
     },
     "metadata": {},
     "output_type": "display_data"
    }
   ],
   "source": [
    "# calculate the percent change each day\n",
    "returns = df.pct_change()\n",
    "returns_with_p = returns.copy()\n",
    "returns_with_p['portfolio'] = np.zeros(shape=len(returns))\n",
    "returns_with_p.iloc[0] = np.ones(shape=len(assets)+1)\n",
    "returns_with_p.head(5)"
   ]
  },
  {
   "cell_type": "code",
   "execution_count": null,
   "metadata": {
    "datalore": {
     "hide_input_from_viewers": false,
     "hide_output_from_viewers": false,
     "node_id": "sXHVYqH2tgQu56DVyPeEUk",
     "report_properties": {
      "rowId": "cowAXWN6tBhFBzhtKJR4UY"
     },
     "type": "CODE"
    }
   },
   "outputs": [
    {
     "data": {
      "text/html": [
       "<div>\n",
       "<style scoped>\n",
       "    .dataframe tbody tr th:only-of-type {\n",
       "        vertical-align: middle;\n",
       "    }\n",
       "\n",
       "    .dataframe tbody tr th {\n",
       "        vertical-align: top;\n",
       "    }\n",
       "\n",
       "    .dataframe thead th {\n",
       "        text-align: right;\n",
       "    }\n",
       "</style>\n",
       "<table border=\"1\" class=\"dataframe\">\n",
       "  <thead>\n",
       "    <tr style=\"text-align: right;\">\n",
       "      <th></th>\n",
       "      <th>AAPL</th>\n",
       "      <th>MSFT</th>\n",
       "      <th>AMZN</th>\n",
       "      <th>GOOGL</th>\n",
       "      <th>TSLA</th>\n",
       "      <th>NVDA</th>\n",
       "      <th>FB</th>\n",
       "      <th>JPM</th>\n",
       "      <th>UNH</th>\n",
       "      <th>JNJ</th>\n",
       "      <th>PG</th>\n",
       "      <th>V</th>\n",
       "      <th>HD</th>\n",
       "      <th>BAC</th>\n",
       "      <th>XOM</th>\n",
       "      <th>portfolio</th>\n",
       "    </tr>\n",
       "    <tr>\n",
       "      <th>Date</th>\n",
       "      <th></th>\n",
       "      <th></th>\n",
       "      <th></th>\n",
       "      <th></th>\n",
       "      <th></th>\n",
       "      <th></th>\n",
       "      <th></th>\n",
       "      <th></th>\n",
       "      <th></th>\n",
       "      <th></th>\n",
       "      <th></th>\n",
       "      <th></th>\n",
       "      <th></th>\n",
       "      <th></th>\n",
       "      <th></th>\n",
       "      <th></th>\n",
       "    </tr>\n",
       "  </thead>\n",
       "  <tbody>\n",
       "    <tr>\n",
       "      <th>2015-01-02</th>\n",
       "      <td>1.000000</td>\n",
       "      <td>1.000000</td>\n",
       "      <td>1.000000</td>\n",
       "      <td>1.000000</td>\n",
       "      <td>1.000000</td>\n",
       "      <td>1.000000</td>\n",
       "      <td>1.000000</td>\n",
       "      <td>1.000000</td>\n",
       "      <td>1.000000</td>\n",
       "      <td>1.000000</td>\n",
       "      <td>1.000000</td>\n",
       "      <td>1.000000</td>\n",
       "      <td>1.000000</td>\n",
       "      <td>1.000000</td>\n",
       "      <td>1.000000</td>\n",
       "      <td>1.0</td>\n",
       "    </tr>\n",
       "    <tr>\n",
       "      <th>2015-01-05</th>\n",
       "      <td>-0.028172</td>\n",
       "      <td>-0.009196</td>\n",
       "      <td>-0.020517</td>\n",
       "      <td>-0.019054</td>\n",
       "      <td>-0.042041</td>\n",
       "      <td>-0.016890</td>\n",
       "      <td>-0.016061</td>\n",
       "      <td>-0.031045</td>\n",
       "      <td>-0.016471</td>\n",
       "      <td>-0.006984</td>\n",
       "      <td>-0.004755</td>\n",
       "      <td>-0.022074</td>\n",
       "      <td>-0.020980</td>\n",
       "      <td>-0.029050</td>\n",
       "      <td>-0.027362</td>\n",
       "      <td>0.0</td>\n",
       "    </tr>\n",
       "    <tr>\n",
       "      <th>2015-01-06</th>\n",
       "      <td>0.000094</td>\n",
       "      <td>-0.014677</td>\n",
       "      <td>-0.022833</td>\n",
       "      <td>-0.024679</td>\n",
       "      <td>0.005664</td>\n",
       "      <td>-0.030318</td>\n",
       "      <td>-0.013473</td>\n",
       "      <td>-0.025929</td>\n",
       "      <td>-0.002018</td>\n",
       "      <td>-0.004914</td>\n",
       "      <td>-0.004555</td>\n",
       "      <td>-0.006444</td>\n",
       "      <td>-0.003061</td>\n",
       "      <td>-0.029919</td>\n",
       "      <td>-0.005316</td>\n",
       "      <td>0.0</td>\n",
       "    </tr>\n",
       "    <tr>\n",
       "      <th>2015-01-07</th>\n",
       "      <td>0.014022</td>\n",
       "      <td>0.012705</td>\n",
       "      <td>0.010600</td>\n",
       "      <td>-0.002941</td>\n",
       "      <td>-0.001562</td>\n",
       "      <td>-0.002606</td>\n",
       "      <td>0.000000</td>\n",
       "      <td>0.001526</td>\n",
       "      <td>0.010210</td>\n",
       "      <td>0.022076</td>\n",
       "      <td>0.005246</td>\n",
       "      <td>0.013398</td>\n",
       "      <td>0.034274</td>\n",
       "      <td>0.004745</td>\n",
       "      <td>0.010133</td>\n",
       "      <td>0.0</td>\n",
       "    </tr>\n",
       "    <tr>\n",
       "      <th>2015-01-08</th>\n",
       "      <td>0.038422</td>\n",
       "      <td>0.029418</td>\n",
       "      <td>0.006836</td>\n",
       "      <td>0.003484</td>\n",
       "      <td>-0.001564</td>\n",
       "      <td>0.037618</td>\n",
       "      <td>0.026658</td>\n",
       "      <td>0.022346</td>\n",
       "      <td>0.047733</td>\n",
       "      <td>0.007863</td>\n",
       "      <td>0.011436</td>\n",
       "      <td>0.013413</td>\n",
       "      <td>0.022124</td>\n",
       "      <td>0.020661</td>\n",
       "      <td>0.016645</td>\n",
       "      <td>0.0</td>\n",
       "    </tr>\n",
       "  </tbody>\n",
       "</table>\n",
       "</div>"
      ]
     },
     "metadata": {},
     "output_type": "display_data"
    }
   ],
   "source": [
    "# run the optimization for minimal volatility\n",
    "weights_rolling = pd.DataFrame()\n",
    "\n",
    "risk_free_rate = risk_free_rate/window\n",
    "\n",
    "i=0\n",
    "ind = 1\n",
    "ind_w = window\n",
    "\n",
    "while i < len(returns):\n",
    "    expected_return = returns.iloc[i:i+window,:].mean()\n",
    "    covariance = returns.iloc[i:i+window,:].cov()\n",
    "    ef = EfficientFrontier(expected_return, covariance)\n",
    "    ef.max_sharpe(risk_free_rate=risk_free_rate)\n",
    "    efweights = np.mat(ef.weights)\n",
    "    weights_rolling[ind] = pd.DataFrame.from_dict(ef.clean_weights(),orient='index')\n",
    "    returns_with_p.iloc[ind_w:(ind_w+step),len(assets)] = np.dot(returns_with_p.iloc[ind_w:(ind_w+step),0:len(assets)],efweights.T)\n",
    "    i += step\n",
    "    ind += 1\n",
    "    ind_w += step\n",
    "returns_with_p.head(5)"
   ]
  },
  {
   "cell_type": "code",
   "execution_count": null,
   "metadata": {
    "datalore": {
     "hide_input_from_viewers": false,
     "hide_output_from_viewers": false,
     "node_id": "zGruhXFdVmA9zzAHT0D9yt",
     "report_properties": {
      "rowId": "cowAXWN6tBhFBzhtKJR4UY"
     },
     "type": "CODE"
    }
   },
   "outputs": [
    {
     "data": {
      "image/png": "[encoded data removed]"
     },
     "metadata": {
      "image/png": {}
     },
     "output_type": "display_data"
    }
   ],
   "source": [
    "cweights = weights_rolling.T\n",
    "\n",
    "cweights.plot(\n",
    "    kind = 'bar',\n",
    "    stacked = True,\n",
    "    title = 'Portfolio Weights Across Iterations (Balanced)',\n",
    "    mark_right = True)\n",
    "\n",
    "plt.xlabel('Interations')\n",
    "plt.ylabel('Weights')\n",
    "plt.legend(loc=\"lower left\", bbox_to_anchor = (1, -0.05))\n",
    "plt.tight_layout()\n",
    "plt.savefig('Portfolio Weights Across Iterations (Balanced).png', dpi=500)"
   ]
  },
  {
   "cell_type": "code",
   "execution_count": null,
   "metadata": {
    "datalore": {
     "controls_state": [
      {
       "label": "Threshold (pie chart) (in %)",
       "max": "50",
       "maxExpression": "",
       "min": "0",
       "minExpression": "",
       "step": "1",
       "stepExpression": "",
       "type": "SLIDER",
       "value": "6",
       "variable": "threshold_pie"
      }
     ],
     "hide_input_from_viewers": false,
     "hide_output_from_viewers": false,
     "node_id": "kYcQe7jI8T5uFLLOwy9GDo",
     "report_properties": {
      "rowId": "cowAXWN6tBhFBzhtKJR4UY"
     },
     "type": "CONTROL"
    }
   },
   "outputs": [],
   "source": [
    "threshold_pie = 6"
   ]
  },
  {
   "cell_type": "code",
   "execution_count": null,
   "metadata": {
    "datalore": {
     "hide_input_from_viewers": false,
     "hide_output_from_viewers": false,
     "node_id": "ZNNC02yDJXj2x3bKKlAIGa",
     "report_properties": {
      "rowId": "cowAXWN6tBhFBzhtKJR4UY"
     },
     "type": "CODE"
    }
   },
   "outputs": [
    {
     "data": {
      "image/png": "[encoded data removed]"
     },
     "metadata": {
      "image/png": {}
     },
     "output_type": "display_data"
    }
   ],
   "source": [
    "#drop all 0 values \n",
    "avg_weights = cweights.sum()\n",
    "# avg_weights.columns = ['Sum of weights']\n",
    "\n",
    "others = avg_weights.loc[(avg_weights<((avg_weights.sum()/100)*threshold_pie))]\n",
    "avg_weights = avg_weights.loc[~(avg_weights<((avg_weights.sum()/100)*threshold_pie))]\n",
    "avg_weights['Others'] = others.sum()\n",
    "\n",
    "fig, ax = plt.subplots(figsize=(6, 6))\n",
    "x = avg_weights.values\n",
    "labels = avg_weights.index.values\n",
    "\n",
    "patches, texts, pcts = ax.pie(\n",
    "    x, labels=labels, autopct='%.1f%%',\n",
    "    wedgeprops={'linewidth': 3.0, 'edgecolor': 'white'},\n",
    "    textprops={'size': 'x-large'})\n",
    "\n",
    "plt.setp(pcts, color='white', fontweight='bold')\n",
    "ax.set_title('Average Portfolio Weights (Balanced)', fontsize=18)\n",
    "plt.tight_layout()\n",
    "plt.savefig('Average Portfolio Weights (Balanced).png', dpi=500)"
   ]
  },
  {
   "cell_type": "code",
   "execution_count": null,
   "metadata": {
    "datalore": {
     "hide_input_from_viewers": false,
     "hide_output_from_viewers": false,
     "node_id": "rqQbptVzBOioz07wX1ZA3R",
     "report_properties": {
      "rowId": "cowAXWN6tBhFBzhtKJR4UY"
     },
     "type": "CODE"
    }
   },
   "outputs": [
    {
     "data": {
      "text/html": [
       "<div>\n",
       "<style scoped>\n",
       "    .dataframe tbody tr th:only-of-type {\n",
       "        vertical-align: middle;\n",
       "    }\n",
       "\n",
       "    .dataframe tbody tr th {\n",
       "        vertical-align: top;\n",
       "    }\n",
       "\n",
       "    .dataframe thead th {\n",
       "        text-align: right;\n",
       "    }\n",
       "</style>\n",
       "<table border=\"1\" class=\"dataframe\">\n",
       "  <thead>\n",
       "    <tr style=\"text-align: right;\">\n",
       "      <th></th>\n",
       "      <th>AAPL</th>\n",
       "      <th>MSFT</th>\n",
       "      <th>AMZN</th>\n",
       "      <th>GOOGL</th>\n",
       "      <th>TSLA</th>\n",
       "      <th>NVDA</th>\n",
       "      <th>FB</th>\n",
       "      <th>JPM</th>\n",
       "      <th>UNH</th>\n",
       "      <th>JNJ</th>\n",
       "      <th>PG</th>\n",
       "      <th>V</th>\n",
       "      <th>HD</th>\n",
       "      <th>BAC</th>\n",
       "      <th>XOM</th>\n",
       "      <th>portfolio</th>\n",
       "      <th>yield curve</th>\n",
       "    </tr>\n",
       "    <tr>\n",
       "      <th>Date</th>\n",
       "      <th></th>\n",
       "      <th></th>\n",
       "      <th></th>\n",
       "      <th></th>\n",
       "      <th></th>\n",
       "      <th></th>\n",
       "      <th></th>\n",
       "      <th></th>\n",
       "      <th></th>\n",
       "      <th></th>\n",
       "      <th></th>\n",
       "      <th></th>\n",
       "      <th></th>\n",
       "      <th></th>\n",
       "      <th></th>\n",
       "      <th></th>\n",
       "      <th></th>\n",
       "    </tr>\n",
       "  </thead>\n",
       "  <tbody>\n",
       "    <tr>\n",
       "      <th>2015-07-01</th>\n",
       "      <td>0.009328</td>\n",
       "      <td>0.006795</td>\n",
       "      <td>0.007602</td>\n",
       "      <td>0.006037</td>\n",
       "      <td>0.003318</td>\n",
       "      <td>0.014421</td>\n",
       "      <td>0.013291</td>\n",
       "      <td>0.004575</td>\n",
       "      <td>0.011311</td>\n",
       "      <td>0.010363</td>\n",
       "      <td>0.018916</td>\n",
       "      <td>0.010424</td>\n",
       "      <td>0.008459</td>\n",
       "      <td>0.011751</td>\n",
       "      <td>-0.009976</td>\n",
       "      <td>0.000000</td>\n",
       "      <td>1.000000</td>\n",
       "    </tr>\n",
       "    <tr>\n",
       "      <th>2015-07-02</th>\n",
       "      <td>-0.001264</td>\n",
       "      <td>-0.001125</td>\n",
       "      <td>0.000732</td>\n",
       "      <td>0.007436</td>\n",
       "      <td>0.040386</td>\n",
       "      <td>0.000980</td>\n",
       "      <td>0.004372</td>\n",
       "      <td>-0.008080</td>\n",
       "      <td>-0.012725</td>\n",
       "      <td>-0.000305</td>\n",
       "      <td>0.002634</td>\n",
       "      <td>0.005748</td>\n",
       "      <td>-0.005175</td>\n",
       "      <td>-0.011034</td>\n",
       "      <td>0.009348</td>\n",
       "      <td>0.003420</td>\n",
       "      <td>1.003420</td>\n",
       "    </tr>\n",
       "    <tr>\n",
       "      <th>2015-07-06</th>\n",
       "      <td>-0.003480</td>\n",
       "      <td>-0.000225</td>\n",
       "      <td>-0.003815</td>\n",
       "      <td>-0.003143</td>\n",
       "      <td>-0.001071</td>\n",
       "      <td>-0.012243</td>\n",
       "      <td>0.002979</td>\n",
       "      <td>-0.002814</td>\n",
       "      <td>0.002873</td>\n",
       "      <td>-0.002438</td>\n",
       "      <td>0.001501</td>\n",
       "      <td>-0.001758</td>\n",
       "      <td>-0.001525</td>\n",
       "      <td>-0.005285</td>\n",
       "      <td>-0.007337</td>\n",
       "      <td>-0.000829</td>\n",
       "      <td>1.002591</td>\n",
       "    </tr>\n",
       "    <tr>\n",
       "      <th>2015-07-07</th>\n",
       "      <td>-0.002460</td>\n",
       "      <td>-0.002027</td>\n",
       "      <td>0.001559</td>\n",
       "      <td>0.008083</td>\n",
       "      <td>-0.042328</td>\n",
       "      <td>-0.018840</td>\n",
       "      <td>-0.003769</td>\n",
       "      <td>-0.007872</td>\n",
       "      <td>-0.011952</td>\n",
       "      <td>0.007332</td>\n",
       "      <td>0.020862</td>\n",
       "      <td>-0.005138</td>\n",
       "      <td>0.009702</td>\n",
       "      <td>-0.014758</td>\n",
       "      <td>0.004120</td>\n",
       "      <td>-0.012046</td>\n",
       "      <td>0.990545</td>\n",
       "    </tr>\n",
       "    <tr>\n",
       "      <th>2015-07-08</th>\n",
       "      <td>-0.024823</td>\n",
       "      <td>-0.001354</td>\n",
       "      <td>-0.016074</td>\n",
       "      <td>-0.015145</td>\n",
       "      <td>-0.048231</td>\n",
       "      <td>-0.007074</td>\n",
       "      <td>-0.018000</td>\n",
       "      <td>-0.020509</td>\n",
       "      <td>-0.015907</td>\n",
       "      <td>-0.011626</td>\n",
       "      <td>-0.008933</td>\n",
       "      <td>-0.015346</td>\n",
       "      <td>-0.012456</td>\n",
       "      <td>-0.026363</td>\n",
       "      <td>-0.010860</td>\n",
       "      <td>-0.022619</td>\n",
       "      <td>0.967926</td>\n",
       "    </tr>\n",
       "  </tbody>\n",
       "</table>\n",
       "</div>"
      ]
     },
     "metadata": {},
     "output_type": "display_data"
    }
   ],
   "source": [
    "returns_with_p['yield curve'] = returns_with_p['portfolio'].cumsum()\n",
    "returns_with_p = returns_with_p.copy().iloc[window-1: , :]\n",
    "returns_with_p.head(5)"
   ]
  },
  {
   "cell_type": "code",
   "execution_count": null,
   "metadata": {
    "datalore": {
     "hide_input_from_viewers": false,
     "hide_output_from_viewers": false,
     "node_id": "s8uvgTBUDby2QdlSTKzaTF",
     "report_properties": {
      "rowId": "cowAXWN6tBhFBzhtKJR4UY"
     },
     "type": "CODE"
    }
   },
   "outputs": [
    {
     "data": {
      "image/png": "[encoded data removed]"
     },
     "metadata": {
      "image/png": {}
     },
     "output_type": "display_data"
    }
   ],
   "source": [
    "#plot the yield curve\n",
    "returns_with_p['yield curve'].plot(label = 'Overall return = {}'.format(np.round(float(returns_with_p['yield curve'].tail(1)),2)))\n",
    "plt.title('Yield Curve (Balanced)')\n",
    "plt.xlabel('Date')\n",
    "plt.ylabel('Cumulative return')\n",
    "plt.legend()\n",
    "plt.savefig('Yield Curve (Balanced).png', dpi=500)"
   ]
  },
  {
   "cell_type": "code",
   "execution_count": null,
   "metadata": {
    "datalore": {
     "hide_input_from_viewers": false,
     "hide_output_from_viewers": false,
     "node_id": "4OHcOhZuXTP65n7oGINV51",
     "report_properties": {
      "rowId": "cowAXWN6tBhFBzhtKJR4UY"
     },
     "type": "CODE"
    }
   },
   "outputs": [
    {
     "data": {
      "text/html": [
       "<div>\n",
       "<style scoped>\n",
       "    .dataframe tbody tr th:only-of-type {\n",
       "        vertical-align: middle;\n",
       "    }\n",
       "\n",
       "    .dataframe tbody tr th {\n",
       "        vertical-align: top;\n",
       "    }\n",
       "\n",
       "    .dataframe thead th {\n",
       "        text-align: right;\n",
       "    }\n",
       "</style>\n",
       "<table border=\"1\" class=\"dataframe\">\n",
       "  <thead>\n",
       "    <tr style=\"text-align: right;\">\n",
       "      <th></th>\n",
       "      <th>Conservative</th>\n",
       "      <th>Balanced</th>\n",
       "    </tr>\n",
       "    <tr>\n",
       "      <th>Date</th>\n",
       "      <th></th>\n",
       "      <th></th>\n",
       "    </tr>\n",
       "  </thead>\n",
       "  <tbody>\n",
       "    <tr>\n",
       "      <th>2015-07-01</th>\n",
       "      <td>1.000000</td>\n",
       "      <td>1.000000</td>\n",
       "    </tr>\n",
       "    <tr>\n",
       "      <th>2015-07-02</th>\n",
       "      <td>1.004072</td>\n",
       "      <td>1.003420</td>\n",
       "    </tr>\n",
       "    <tr>\n",
       "      <th>2015-07-06</th>\n",
       "      <td>1.002196</td>\n",
       "      <td>1.002591</td>\n",
       "    </tr>\n",
       "    <tr>\n",
       "      <th>2015-07-07</th>\n",
       "      <td>1.011886</td>\n",
       "      <td>0.990545</td>\n",
       "    </tr>\n",
       "    <tr>\n",
       "      <th>2015-07-08</th>\n",
       "      <td>0.999515</td>\n",
       "      <td>0.967926</td>\n",
       "    </tr>\n",
       "    <tr>\n",
       "      <th>...</th>\n",
       "      <td>...</td>\n",
       "      <td>...</td>\n",
       "    </tr>\n",
       "    <tr>\n",
       "      <th>2022-01-25</th>\n",
       "      <td>1.982155</td>\n",
       "      <td>3.800040</td>\n",
       "    </tr>\n",
       "    <tr>\n",
       "      <th>2022-01-26</th>\n",
       "      <td>1.980629</td>\n",
       "      <td>3.796014</td>\n",
       "    </tr>\n",
       "    <tr>\n",
       "      <th>2022-01-27</th>\n",
       "      <td>1.983753</td>\n",
       "      <td>3.784886</td>\n",
       "    </tr>\n",
       "    <tr>\n",
       "      <th>2022-01-28</th>\n",
       "      <td>1.995836</td>\n",
       "      <td>3.794614</td>\n",
       "    </tr>\n",
       "    <tr>\n",
       "      <th>2022-01-31</th>\n",
       "      <td>2.006194</td>\n",
       "      <td>3.813847</td>\n",
       "    </tr>\n",
       "  </tbody>\n",
       "</table>\n",
       "<p>1659 rows × 2 columns</p>\n",
       "</div>"
      ]
     },
     "metadata": {},
     "output_type": "display_data"
    }
   ],
   "source": [
    "#save yield curve\n",
    "yields['Balanced'] = returns_with_p['yield curve']\n",
    "yields"
   ]
  },
  {
   "cell_type": "code",
   "execution_count": null,
   "metadata": {
    "datalore": {
     "hide_input_from_viewers": false,
     "hide_output_from_viewers": false,
     "node_id": "fGX1lKckSh9pUvzRUxivc8",
     "report_properties": {
      "rowId": "cowAXWN6tBhFBzhtKJR4UY"
     },
     "type": "CODE"
    }
   },
   "outputs": [],
   "source": [
    "p_variance = np.var(returns_with_p['portfolio'])*252\n",
    "p_volatility = np.sqrt(p_variance)\n",
    "p_return = np.mean(returns_with_p['portfolio'])*252\n",
    "p_sharpe = (p_return - risk_free_rate) / p_volatility "
   ]
  },
  {
   "cell_type": "code",
   "execution_count": null,
   "metadata": {
    "datalore": {
     "hide_input_from_viewers": false,
     "hide_output_from_viewers": false,
     "node_id": "J4bZUA5DP5gxofl1sF3Sqq",
     "report_properties": {
      "rowId": "cowAXWN6tBhFBzhtKJR4UY"
     },
     "type": "CODE"
    }
   },
   "outputs": [
    {
     "name": "stdout",
     "output_type": "stream",
     "text": [
      "Average annual return: 42.74%\n",
      "Annual volatility: 28.86%\n",
      "Sharpe ratio: 1.48\n"
     ]
    }
   ],
   "source": [
    "percent_vol = str(round((p_volatility*100),2))+'%'\n",
    "percent_return = str(round((p_return*100),2))+'%'\n",
    "sharpe_ratio = str(round(p_sharpe,2))\n",
    "\n",
    "\n",
    "print('Average annual return: ' + percent_return)\n",
    "print('Annual volatility: ' + percent_vol)\n",
    "print('Sharpe ratio: ' + sharpe_ratio)"
   ]
  },
  {
   "cell_type": "code",
   "execution_count": null,
   "metadata": {
    "datalore": {
     "hide_input_from_viewers": false,
     "hide_output_from_viewers": false,
     "node_id": "vrBaCgzFIoic6gRDbwDYVv",
     "report_properties": {
      "rowId": "cowAXWN6tBhFBzhtKJR4UY"
     },
     "type": "CODE"
    }
   },
   "outputs": [
    {
     "data": {
      "image/png": "[encoded data removed]"
     },
     "metadata": {
      "image/png": {}
     },
     "output_type": "display_data"
    }
   ],
   "source": [
    "returns_with_p['drawdown'] = returns_with_p['yield curve'] - returns_with_p[\"yield curve\"].cummax()\n",
    "returns_with_p['drawdown_percent'] = (returns_with_p['yield curve']/returns_with_p[\"yield curve\"].cummax())-1\n",
    "returns_with_p['drawdown_percent'].plot(color = 'red', label = 'Max Drawdown = {}%'.format(np.round(returns_with_p['drawdown_percent'].min(),3)*100))\n",
    "plt.title('Drawdown Graph (Balanced)')\n",
    "plt.xlabel('Date')\n",
    "plt.ylabel('Drawdown')\n",
    "plt.legend()\n",
    "plt.savefig('Drawdown graph (Balanced).png', dpi=500)"
   ]
  },
  {
   "cell_type": "code",
   "execution_count": null,
   "metadata": {
    "datalore": {
     "hide_input_from_viewers": false,
     "hide_output_from_viewers": false,
     "node_id": "MO98Q3xizjWF96CaSMCqVj",
     "report_properties": {
      "rowId": "cowAXWN6tBhFBzhtKJR4UY"
     },
     "type": "CODE"
    }
   },
   "outputs": [
    {
     "data": {
      "text/html": [
       "<div>\n",
       "<style scoped>\n",
       "    .dataframe tbody tr th:only-of-type {\n",
       "        vertical-align: middle;\n",
       "    }\n",
       "\n",
       "    .dataframe tbody tr th {\n",
       "        vertical-align: top;\n",
       "    }\n",
       "\n",
       "    .dataframe thead th {\n",
       "        text-align: right;\n",
       "    }\n",
       "</style>\n",
       "<table border=\"1\" class=\"dataframe\">\n",
       "  <thead>\n",
       "    <tr style=\"text-align: right;\">\n",
       "      <th></th>\n",
       "      <th>Conservative</th>\n",
       "      <th>Balanced</th>\n",
       "    </tr>\n",
       "    <tr>\n",
       "      <th>Date</th>\n",
       "      <th></th>\n",
       "      <th></th>\n",
       "    </tr>\n",
       "  </thead>\n",
       "  <tbody>\n",
       "    <tr>\n",
       "      <th>2015-07-01</th>\n",
       "      <td>0.000000</td>\n",
       "      <td>0.000000</td>\n",
       "    </tr>\n",
       "    <tr>\n",
       "      <th>2015-07-02</th>\n",
       "      <td>0.000000</td>\n",
       "      <td>0.000000</td>\n",
       "    </tr>\n",
       "    <tr>\n",
       "      <th>2015-07-06</th>\n",
       "      <td>-0.001868</td>\n",
       "      <td>-0.000826</td>\n",
       "    </tr>\n",
       "    <tr>\n",
       "      <th>2015-07-07</th>\n",
       "      <td>0.000000</td>\n",
       "      <td>-0.012831</td>\n",
       "    </tr>\n",
       "    <tr>\n",
       "      <th>2015-07-08</th>\n",
       "      <td>-0.012226</td>\n",
       "      <td>-0.035373</td>\n",
       "    </tr>\n",
       "    <tr>\n",
       "      <th>...</th>\n",
       "      <td>...</td>\n",
       "      <td>...</td>\n",
       "    </tr>\n",
       "    <tr>\n",
       "      <th>2022-01-25</th>\n",
       "      <td>-0.029025</td>\n",
       "      <td>-0.030921</td>\n",
       "    </tr>\n",
       "    <tr>\n",
       "      <th>2022-01-26</th>\n",
       "      <td>-0.029773</td>\n",
       "      <td>-0.031948</td>\n",
       "    </tr>\n",
       "    <tr>\n",
       "      <th>2022-01-27</th>\n",
       "      <td>-0.028243</td>\n",
       "      <td>-0.034786</td>\n",
       "    </tr>\n",
       "    <tr>\n",
       "      <th>2022-01-28</th>\n",
       "      <td>-0.022323</td>\n",
       "      <td>-0.032305</td>\n",
       "    </tr>\n",
       "    <tr>\n",
       "      <th>2022-01-31</th>\n",
       "      <td>-0.017250</td>\n",
       "      <td>-0.027400</td>\n",
       "    </tr>\n",
       "  </tbody>\n",
       "</table>\n",
       "<p>1659 rows × 2 columns</p>\n",
       "</div>"
      ]
     },
     "metadata": {},
     "output_type": "display_data"
    }
   ],
   "source": [
    "#save drawdowns\n",
    "drawdowns['Balanced'] = returns_with_p['drawdown_percent']\n",
    "drawdowns"
   ]
  },
  {
   "cell_type": "code",
   "execution_count": null,
   "metadata": {
    "datalore": {
     "hide_input_from_viewers": false,
     "hide_output_from_viewers": false,
     "node_id": "K8H7y4Kx8cDyyVytnwMXgD",
     "report_properties": {
      "rowId": "cowAXWN6tBhFBzhtKJR4UY"
     },
     "type": "CODE"
    }
   },
   "outputs": [
    {
     "name": "stdout",
     "output_type": "stream",
     "text": [
      "The longest recovery period is 247 trading days \n"
     ]
    }
   ],
   "source": [
    "count = 0\n",
    "prev = 0\n",
    "indexend = 0\n",
    "for i in range(0,len(returns_with_p['drawdown'])):\n",
    "    if returns_with_p['drawdown'][i] < 0:\n",
    "        count += 1\n",
    "    else:            \n",
    "      if count > prev:\n",
    "        prev = count\n",
    "        indexend = i\n",
    "      count = 0\n",
    "\n",
    "print(\"The longest recovery period is \"+str(prev)+\" trading days \")"
   ]
  },
  {
   "attachments": {},
   "cell_type": "markdown",
   "metadata": {
    "datalore": {
     "hide_input_from_viewers": false,
     "hide_output_from_viewers": false,
     "node_id": "Aggressive Investor",
     "sheet_delimiter": true,
     "type": "MD"
    }
   },
   "source": [
    "# Aggressive Investor"
   ]
  },
  {
   "attachments": {},
   "cell_type": "markdown",
   "metadata": {
    "datalore": {
     "hide_input_from_viewers": false,
     "hide_output_from_viewers": false,
     "node_id": "zUUCDN8QEluLo7EKfVE57R",
     "report_properties": {
      "rowId": "cowAXWN6tBhFBzhtKJR4UY"
     },
     "type": "MD"
    }
   },
   "source": [
    "## Aggressive Investor Portfolio (Target high volatility)"
   ]
  },
  {
   "cell_type": "code",
   "execution_count": null,
   "metadata": {
    "datalore": {
     "hide_input_from_viewers": false,
     "hide_output_from_viewers": false,
     "node_id": "y4PgmlvXOBSjHeLUYQDrpm",
     "report_properties": {
      "rowId": "cowAXWN6tBhFBzhtKJR4UY"
     },
     "type": "CODE"
    }
   },
   "outputs": [
    {
     "data": {
      "text/html": [
       "<div>\n",
       "<style scoped>\n",
       "    .dataframe tbody tr th:only-of-type {\n",
       "        vertical-align: middle;\n",
       "    }\n",
       "\n",
       "    .dataframe tbody tr th {\n",
       "        vertical-align: top;\n",
       "    }\n",
       "\n",
       "    .dataframe thead th {\n",
       "        text-align: right;\n",
       "    }\n",
       "</style>\n",
       "<table border=\"1\" class=\"dataframe\">\n",
       "  <thead>\n",
       "    <tr style=\"text-align: right;\">\n",
       "      <th></th>\n",
       "      <th>AAPL</th>\n",
       "      <th>MSFT</th>\n",
       "      <th>AMZN</th>\n",
       "      <th>GOOGL</th>\n",
       "      <th>TSLA</th>\n",
       "      <th>NVDA</th>\n",
       "      <th>FB</th>\n",
       "      <th>JPM</th>\n",
       "      <th>UNH</th>\n",
       "      <th>JNJ</th>\n",
       "      <th>PG</th>\n",
       "      <th>V</th>\n",
       "      <th>HD</th>\n",
       "      <th>BAC</th>\n",
       "      <th>XOM</th>\n",
       "      <th>portfolio</th>\n",
       "    </tr>\n",
       "    <tr>\n",
       "      <th>Date</th>\n",
       "      <th></th>\n",
       "      <th></th>\n",
       "      <th></th>\n",
       "      <th></th>\n",
       "      <th></th>\n",
       "      <th></th>\n",
       "      <th></th>\n",
       "      <th></th>\n",
       "      <th></th>\n",
       "      <th></th>\n",
       "      <th></th>\n",
       "      <th></th>\n",
       "      <th></th>\n",
       "      <th></th>\n",
       "      <th></th>\n",
       "      <th></th>\n",
       "    </tr>\n",
       "  </thead>\n",
       "  <tbody>\n",
       "    <tr>\n",
       "      <th>2015-01-02</th>\n",
       "      <td>1.000000</td>\n",
       "      <td>1.000000</td>\n",
       "      <td>1.000000</td>\n",
       "      <td>1.000000</td>\n",
       "      <td>1.000000</td>\n",
       "      <td>1.000000</td>\n",
       "      <td>1.000000</td>\n",
       "      <td>1.000000</td>\n",
       "      <td>1.000000</td>\n",
       "      <td>1.000000</td>\n",
       "      <td>1.000000</td>\n",
       "      <td>1.000000</td>\n",
       "      <td>1.000000</td>\n",
       "      <td>1.000000</td>\n",
       "      <td>1.000000</td>\n",
       "      <td>1.0</td>\n",
       "    </tr>\n",
       "    <tr>\n",
       "      <th>2015-01-05</th>\n",
       "      <td>-0.028172</td>\n",
       "      <td>-0.009196</td>\n",
       "      <td>-0.020517</td>\n",
       "      <td>-0.019054</td>\n",
       "      <td>-0.042041</td>\n",
       "      <td>-0.016890</td>\n",
       "      <td>-0.016061</td>\n",
       "      <td>-0.031045</td>\n",
       "      <td>-0.016471</td>\n",
       "      <td>-0.006984</td>\n",
       "      <td>-0.004755</td>\n",
       "      <td>-0.022074</td>\n",
       "      <td>-0.020980</td>\n",
       "      <td>-0.029050</td>\n",
       "      <td>-0.027362</td>\n",
       "      <td>0.0</td>\n",
       "    </tr>\n",
       "    <tr>\n",
       "      <th>2015-01-06</th>\n",
       "      <td>0.000094</td>\n",
       "      <td>-0.014677</td>\n",
       "      <td>-0.022833</td>\n",
       "      <td>-0.024679</td>\n",
       "      <td>0.005664</td>\n",
       "      <td>-0.030318</td>\n",
       "      <td>-0.013473</td>\n",
       "      <td>-0.025929</td>\n",
       "      <td>-0.002018</td>\n",
       "      <td>-0.004914</td>\n",
       "      <td>-0.004555</td>\n",
       "      <td>-0.006444</td>\n",
       "      <td>-0.003061</td>\n",
       "      <td>-0.029919</td>\n",
       "      <td>-0.005316</td>\n",
       "      <td>0.0</td>\n",
       "    </tr>\n",
       "    <tr>\n",
       "      <th>2015-01-07</th>\n",
       "      <td>0.014022</td>\n",
       "      <td>0.012705</td>\n",
       "      <td>0.010600</td>\n",
       "      <td>-0.002941</td>\n",
       "      <td>-0.001562</td>\n",
       "      <td>-0.002606</td>\n",
       "      <td>0.000000</td>\n",
       "      <td>0.001526</td>\n",
       "      <td>0.010210</td>\n",
       "      <td>0.022076</td>\n",
       "      <td>0.005246</td>\n",
       "      <td>0.013398</td>\n",
       "      <td>0.034274</td>\n",
       "      <td>0.004745</td>\n",
       "      <td>0.010133</td>\n",
       "      <td>0.0</td>\n",
       "    </tr>\n",
       "    <tr>\n",
       "      <th>2015-01-08</th>\n",
       "      <td>0.038422</td>\n",
       "      <td>0.029418</td>\n",
       "      <td>0.006836</td>\n",
       "      <td>0.003484</td>\n",
       "      <td>-0.001564</td>\n",
       "      <td>0.037618</td>\n",
       "      <td>0.026658</td>\n",
       "      <td>0.022346</td>\n",
       "      <td>0.047733</td>\n",
       "      <td>0.007863</td>\n",
       "      <td>0.011436</td>\n",
       "      <td>0.013413</td>\n",
       "      <td>0.022124</td>\n",
       "      <td>0.020661</td>\n",
       "      <td>0.016645</td>\n",
       "      <td>0.0</td>\n",
       "    </tr>\n",
       "  </tbody>\n",
       "</table>\n",
       "</div>"
      ]
     },
     "metadata": {},
     "output_type": "display_data"
    }
   ],
   "source": [
    "# calculate the percent change each day\n",
    "returns = df.pct_change()\n",
    "returns_with_p = returns.copy()\n",
    "returns_with_p['portfolio'] = np.zeros(shape=len(returns))\n",
    "returns_with_p.iloc[0] = np.ones(shape=len(assets)+1)\n",
    "returns_with_p.head(5)"
   ]
  },
  {
   "cell_type": "code",
   "execution_count": null,
   "metadata": {
    "datalore": {
     "hide_input_from_viewers": false,
     "hide_output_from_viewers": false,
     "node_id": "sx6WtBwWqjUICBQfZd4vnM",
     "report_properties": {
      "rowId": "cowAXWN6tBhFBzhtKJR4UY"
     },
     "type": "CODE"
    }
   },
   "outputs": [
    {
     "name": "stderr",
     "output_type": "stream",
     "text": [
      "/opt/python/envs/default/lib/python3.8/site-packages/pypfopt/efficient_frontier/efficient_frontier.py:349: RuntimeWarning: invalid value encountered in sqrt\n",
      "  global_min_volatility = np.sqrt(1 / np.sum(np.linalg.inv(self.cov_matrix)))\n"
     ]
    },
    {
     "data": {
      "text/html": [
       "<div>\n",
       "<style scoped>\n",
       "    .dataframe tbody tr th:only-of-type {\n",
       "        vertical-align: middle;\n",
       "    }\n",
       "\n",
       "    .dataframe tbody tr th {\n",
       "        vertical-align: top;\n",
       "    }\n",
       "\n",
       "    .dataframe thead th {\n",
       "        text-align: right;\n",
       "    }\n",
       "</style>\n",
       "<table border=\"1\" class=\"dataframe\">\n",
       "  <thead>\n",
       "    <tr style=\"text-align: right;\">\n",
       "      <th></th>\n",
       "      <th>AAPL</th>\n",
       "      <th>MSFT</th>\n",
       "      <th>AMZN</th>\n",
       "      <th>GOOGL</th>\n",
       "      <th>TSLA</th>\n",
       "      <th>NVDA</th>\n",
       "      <th>FB</th>\n",
       "      <th>JPM</th>\n",
       "      <th>UNH</th>\n",
       "      <th>JNJ</th>\n",
       "      <th>PG</th>\n",
       "      <th>V</th>\n",
       "      <th>HD</th>\n",
       "      <th>BAC</th>\n",
       "      <th>XOM</th>\n",
       "      <th>portfolio</th>\n",
       "    </tr>\n",
       "    <tr>\n",
       "      <th>Date</th>\n",
       "      <th></th>\n",
       "      <th></th>\n",
       "      <th></th>\n",
       "      <th></th>\n",
       "      <th></th>\n",
       "      <th></th>\n",
       "      <th></th>\n",
       "      <th></th>\n",
       "      <th></th>\n",
       "      <th></th>\n",
       "      <th></th>\n",
       "      <th></th>\n",
       "      <th></th>\n",
       "      <th></th>\n",
       "      <th></th>\n",
       "      <th></th>\n",
       "    </tr>\n",
       "  </thead>\n",
       "  <tbody>\n",
       "    <tr>\n",
       "      <th>2015-01-02</th>\n",
       "      <td>1.000000</td>\n",
       "      <td>1.000000</td>\n",
       "      <td>1.000000</td>\n",
       "      <td>1.000000</td>\n",
       "      <td>1.000000</td>\n",
       "      <td>1.000000</td>\n",
       "      <td>1.000000</td>\n",
       "      <td>1.000000</td>\n",
       "      <td>1.000000</td>\n",
       "      <td>1.000000</td>\n",
       "      <td>1.000000</td>\n",
       "      <td>1.000000</td>\n",
       "      <td>1.000000</td>\n",
       "      <td>1.000000</td>\n",
       "      <td>1.000000</td>\n",
       "      <td>1.0</td>\n",
       "    </tr>\n",
       "    <tr>\n",
       "      <th>2015-01-05</th>\n",
       "      <td>-0.028172</td>\n",
       "      <td>-0.009196</td>\n",
       "      <td>-0.020517</td>\n",
       "      <td>-0.019054</td>\n",
       "      <td>-0.042041</td>\n",
       "      <td>-0.016890</td>\n",
       "      <td>-0.016061</td>\n",
       "      <td>-0.031045</td>\n",
       "      <td>-0.016471</td>\n",
       "      <td>-0.006984</td>\n",
       "      <td>-0.004755</td>\n",
       "      <td>-0.022074</td>\n",
       "      <td>-0.020980</td>\n",
       "      <td>-0.029050</td>\n",
       "      <td>-0.027362</td>\n",
       "      <td>0.0</td>\n",
       "    </tr>\n",
       "    <tr>\n",
       "      <th>2015-01-06</th>\n",
       "      <td>0.000094</td>\n",
       "      <td>-0.014677</td>\n",
       "      <td>-0.022833</td>\n",
       "      <td>-0.024679</td>\n",
       "      <td>0.005664</td>\n",
       "      <td>-0.030318</td>\n",
       "      <td>-0.013473</td>\n",
       "      <td>-0.025929</td>\n",
       "      <td>-0.002018</td>\n",
       "      <td>-0.004914</td>\n",
       "      <td>-0.004555</td>\n",
       "      <td>-0.006444</td>\n",
       "      <td>-0.003061</td>\n",
       "      <td>-0.029919</td>\n",
       "      <td>-0.005316</td>\n",
       "      <td>0.0</td>\n",
       "    </tr>\n",
       "    <tr>\n",
       "      <th>2015-01-07</th>\n",
       "      <td>0.014022</td>\n",
       "      <td>0.012705</td>\n",
       "      <td>0.010600</td>\n",
       "      <td>-0.002941</td>\n",
       "      <td>-0.001562</td>\n",
       "      <td>-0.002606</td>\n",
       "      <td>0.000000</td>\n",
       "      <td>0.001526</td>\n",
       "      <td>0.010210</td>\n",
       "      <td>0.022076</td>\n",
       "      <td>0.005246</td>\n",
       "      <td>0.013398</td>\n",
       "      <td>0.034274</td>\n",
       "      <td>0.004745</td>\n",
       "      <td>0.010133</td>\n",
       "      <td>0.0</td>\n",
       "    </tr>\n",
       "    <tr>\n",
       "      <th>2015-01-08</th>\n",
       "      <td>0.038422</td>\n",
       "      <td>0.029418</td>\n",
       "      <td>0.006836</td>\n",
       "      <td>0.003484</td>\n",
       "      <td>-0.001564</td>\n",
       "      <td>0.037618</td>\n",
       "      <td>0.026658</td>\n",
       "      <td>0.022346</td>\n",
       "      <td>0.047733</td>\n",
       "      <td>0.007863</td>\n",
       "      <td>0.011436</td>\n",
       "      <td>0.013413</td>\n",
       "      <td>0.022124</td>\n",
       "      <td>0.020661</td>\n",
       "      <td>0.016645</td>\n",
       "      <td>0.0</td>\n",
       "    </tr>\n",
       "  </tbody>\n",
       "</table>\n",
       "</div>"
      ]
     },
     "metadata": {},
     "output_type": "display_data"
    }
   ],
   "source": [
    "# run the optimization for minimal volatility\n",
    "weights_rolling = pd.DataFrame()\n",
    "\n",
    "risk_free_rate = risk_free_rate/window\n",
    "\n",
    "i=0\n",
    "ind = 1\n",
    "ind_w = window\n",
    "\n",
    "while i < len(returns):\n",
    "    expected_return = returns.iloc[i:i+window,:].mean()\n",
    "    covariance = returns.iloc[i:i+window,:].cov()\n",
    "    ef = EfficientFrontier(expected_return, covariance)\n",
    "    ef.efficient_risk(target_volatility=0.03)\n",
    "    efweights = np.mat(ef.weights)\n",
    "    weights_rolling[ind] = pd.DataFrame.from_dict(ef.clean_weights(),orient='index')\n",
    "    returns_with_p.iloc[ind_w:(ind_w+step),len(assets)] = np.dot(returns_with_p.iloc[ind_w:(ind_w+step),0:len(assets)],efweights.T)\n",
    "    i += step\n",
    "    ind += 1\n",
    "    ind_w += step\n",
    "returns_with_p.head(5)"
   ]
  },
  {
   "cell_type": "code",
   "execution_count": null,
   "metadata": {
    "datalore": {
     "hide_input_from_viewers": false,
     "hide_output_from_viewers": false,
     "node_id": "19fwJIdva0owPZcWSfH3oL",
     "report_properties": {
      "rowId": "cowAXWN6tBhFBzhtKJR4UY"
     },
     "type": "CODE"
    }
   },
   "outputs": [
    {
     "data": {
      "image/png": "[encoded data removed]"
     },
     "metadata": {
      "image/png": {}
     },
     "output_type": "display_data"
    }
   ],
   "source": [
    "cweights = weights_rolling.T\n",
    "\n",
    "cweights.plot(\n",
    "    kind = 'bar',\n",
    "    stacked = True,\n",
    "    title = 'Portfolio Weights Across Iterations (Aggressive)',\n",
    "    mark_right = True)\n",
    "\n",
    "plt.xlabel('Interations')\n",
    "plt.ylabel('Weights')\n",
    "plt.legend(loc=\"lower left\", bbox_to_anchor = (1, -0.05))\n",
    "plt.tight_layout()\n",
    "plt.savefig('Portfolio Weights Across Iterations (Aggressive).png', dpi=500)"
   ]
  },
  {
   "cell_type": "code",
   "execution_count": null,
   "metadata": {
    "datalore": {
     "controls_state": [
      {
       "label": "Threshold (pie chart) (in %)",
       "max": "50",
       "maxExpression": "",
       "min": "0",
       "minExpression": "",
       "step": "1",
       "stepExpression": "",
       "type": "SLIDER",
       "value": "6",
       "variable": "threshold_pie"
      }
     ],
     "hide_input_from_viewers": false,
     "hide_output_from_viewers": false,
     "node_id": "7wqqScPHdAXzzm5UG0fDDa",
     "report_properties": {
      "rowId": "cowAXWN6tBhFBzhtKJR4UY"
     },
     "type": "CONTROL"
    }
   },
   "outputs": [],
   "source": [
    "threshold_pie = 6"
   ]
  },
  {
   "cell_type": "code",
   "execution_count": null,
   "metadata": {
    "datalore": {
     "hide_input_from_viewers": false,
     "hide_output_from_viewers": false,
     "node_id": "3hSOJJXiNzWecS1ce2WnWt",
     "report_properties": {
      "rowId": "cowAXWN6tBhFBzhtKJR4UY"
     },
     "type": "CODE"
    }
   },
   "outputs": [
    {
     "data": {
      "image/png": "[encoded data removed]"
     },
     "metadata": {
      "image/png": {}
     },
     "output_type": "display_data"
    }
   ],
   "source": [
    "#drop all 0 values \n",
    "avg_weights = cweights.sum()\n",
    "# avg_weights.columns = ['Sum of weights']\n",
    "\n",
    "others = avg_weights.loc[(avg_weights<((avg_weights.sum()/100)*threshold_pie))]\n",
    "avg_weights = avg_weights.loc[~(avg_weights<((avg_weights.sum()/100)*threshold_pie))]\n",
    "avg_weights['Others'] = others.sum()\n",
    "\n",
    "fig, ax = plt.subplots(figsize=(6, 6))\n",
    "x = avg_weights.values\n",
    "labels = avg_weights.index.values\n",
    "\n",
    "patches, texts, pcts = ax.pie(\n",
    "    x, labels=labels, autopct='%.1f%%',\n",
    "    wedgeprops={'linewidth': 3.0, 'edgecolor': 'white'},\n",
    "    textprops={'size': 'x-large'})\n",
    "\n",
    "plt.setp(pcts, color='white', fontweight='bold')\n",
    "ax.set_title('Average Portfolio Weights (Aggressive)', fontsize=18)\n",
    "plt.tight_layout()\n",
    "plt.savefig('Average Portfolio Weights (Aggressive).png', dpi=500)"
   ]
  },
  {
   "cell_type": "code",
   "execution_count": null,
   "metadata": {
    "datalore": {
     "hide_input_from_viewers": false,
     "hide_output_from_viewers": false,
     "node_id": "hXGFb3lEWkRSQoe4nnanKV",
     "report_properties": {
      "rowId": "cowAXWN6tBhFBzhtKJR4UY"
     },
     "type": "CODE"
    }
   },
   "outputs": [
    {
     "data": {
      "text/html": [
       "<div>\n",
       "<style scoped>\n",
       "    .dataframe tbody tr th:only-of-type {\n",
       "        vertical-align: middle;\n",
       "    }\n",
       "\n",
       "    .dataframe tbody tr th {\n",
       "        vertical-align: top;\n",
       "    }\n",
       "\n",
       "    .dataframe thead th {\n",
       "        text-align: right;\n",
       "    }\n",
       "</style>\n",
       "<table border=\"1\" class=\"dataframe\">\n",
       "  <thead>\n",
       "    <tr style=\"text-align: right;\">\n",
       "      <th></th>\n",
       "      <th>AAPL</th>\n",
       "      <th>MSFT</th>\n",
       "      <th>AMZN</th>\n",
       "      <th>GOOGL</th>\n",
       "      <th>TSLA</th>\n",
       "      <th>NVDA</th>\n",
       "      <th>FB</th>\n",
       "      <th>JPM</th>\n",
       "      <th>UNH</th>\n",
       "      <th>JNJ</th>\n",
       "      <th>PG</th>\n",
       "      <th>V</th>\n",
       "      <th>HD</th>\n",
       "      <th>BAC</th>\n",
       "      <th>XOM</th>\n",
       "      <th>portfolio</th>\n",
       "      <th>yield curve</th>\n",
       "    </tr>\n",
       "    <tr>\n",
       "      <th>Date</th>\n",
       "      <th></th>\n",
       "      <th></th>\n",
       "      <th></th>\n",
       "      <th></th>\n",
       "      <th></th>\n",
       "      <th></th>\n",
       "      <th></th>\n",
       "      <th></th>\n",
       "      <th></th>\n",
       "      <th></th>\n",
       "      <th></th>\n",
       "      <th></th>\n",
       "      <th></th>\n",
       "      <th></th>\n",
       "      <th></th>\n",
       "      <th></th>\n",
       "      <th></th>\n",
       "    </tr>\n",
       "  </thead>\n",
       "  <tbody>\n",
       "    <tr>\n",
       "      <th>2015-07-01</th>\n",
       "      <td>0.009328</td>\n",
       "      <td>0.006795</td>\n",
       "      <td>0.007602</td>\n",
       "      <td>0.006037</td>\n",
       "      <td>0.003318</td>\n",
       "      <td>0.014421</td>\n",
       "      <td>0.013291</td>\n",
       "      <td>0.004575</td>\n",
       "      <td>0.011311</td>\n",
       "      <td>0.010363</td>\n",
       "      <td>0.018916</td>\n",
       "      <td>0.010424</td>\n",
       "      <td>0.008459</td>\n",
       "      <td>0.011751</td>\n",
       "      <td>-0.009976</td>\n",
       "      <td>0.000000</td>\n",
       "      <td>1.000000</td>\n",
       "    </tr>\n",
       "    <tr>\n",
       "      <th>2015-07-02</th>\n",
       "      <td>-0.001264</td>\n",
       "      <td>-0.001125</td>\n",
       "      <td>0.000732</td>\n",
       "      <td>0.007436</td>\n",
       "      <td>0.040386</td>\n",
       "      <td>0.000980</td>\n",
       "      <td>0.004372</td>\n",
       "      <td>-0.008080</td>\n",
       "      <td>-0.012725</td>\n",
       "      <td>-0.000305</td>\n",
       "      <td>0.002634</td>\n",
       "      <td>0.005748</td>\n",
       "      <td>-0.005175</td>\n",
       "      <td>-0.011034</td>\n",
       "      <td>0.009348</td>\n",
       "      <td>0.000732</td>\n",
       "      <td>1.000732</td>\n",
       "    </tr>\n",
       "    <tr>\n",
       "      <th>2015-07-06</th>\n",
       "      <td>-0.003480</td>\n",
       "      <td>-0.000225</td>\n",
       "      <td>-0.003815</td>\n",
       "      <td>-0.003143</td>\n",
       "      <td>-0.001071</td>\n",
       "      <td>-0.012243</td>\n",
       "      <td>0.002979</td>\n",
       "      <td>-0.002814</td>\n",
       "      <td>0.002873</td>\n",
       "      <td>-0.002438</td>\n",
       "      <td>0.001501</td>\n",
       "      <td>-0.001758</td>\n",
       "      <td>-0.001525</td>\n",
       "      <td>-0.005285</td>\n",
       "      <td>-0.007337</td>\n",
       "      <td>-0.003815</td>\n",
       "      <td>0.996916</td>\n",
       "    </tr>\n",
       "    <tr>\n",
       "      <th>2015-07-07</th>\n",
       "      <td>-0.002460</td>\n",
       "      <td>-0.002027</td>\n",
       "      <td>0.001559</td>\n",
       "      <td>0.008083</td>\n",
       "      <td>-0.042328</td>\n",
       "      <td>-0.018840</td>\n",
       "      <td>-0.003769</td>\n",
       "      <td>-0.007872</td>\n",
       "      <td>-0.011952</td>\n",
       "      <td>0.007332</td>\n",
       "      <td>0.020862</td>\n",
       "      <td>-0.005138</td>\n",
       "      <td>0.009702</td>\n",
       "      <td>-0.014758</td>\n",
       "      <td>0.004120</td>\n",
       "      <td>0.001559</td>\n",
       "      <td>0.998476</td>\n",
       "    </tr>\n",
       "    <tr>\n",
       "      <th>2015-07-08</th>\n",
       "      <td>-0.024823</td>\n",
       "      <td>-0.001354</td>\n",
       "      <td>-0.016074</td>\n",
       "      <td>-0.015145</td>\n",
       "      <td>-0.048231</td>\n",
       "      <td>-0.007074</td>\n",
       "      <td>-0.018000</td>\n",
       "      <td>-0.020509</td>\n",
       "      <td>-0.015907</td>\n",
       "      <td>-0.011626</td>\n",
       "      <td>-0.008933</td>\n",
       "      <td>-0.015346</td>\n",
       "      <td>-0.012456</td>\n",
       "      <td>-0.026363</td>\n",
       "      <td>-0.010860</td>\n",
       "      <td>-0.016074</td>\n",
       "      <td>0.982401</td>\n",
       "    </tr>\n",
       "  </tbody>\n",
       "</table>\n",
       "</div>"
      ]
     },
     "metadata": {},
     "output_type": "display_data"
    }
   ],
   "source": [
    "returns_with_p['yield curve'] = returns_with_p['portfolio'].cumsum()\n",
    "returns_with_p = returns_with_p.copy().iloc[window-1: , :]\n",
    "returns_with_p.head(5)"
   ]
  },
  {
   "cell_type": "code",
   "execution_count": null,
   "metadata": {
    "datalore": {
     "hide_input_from_viewers": false,
     "hide_output_from_viewers": false,
     "node_id": "rBhrOcq58qywOMEcrSH4mF",
     "report_properties": {
      "rowId": "cowAXWN6tBhFBzhtKJR4UY"
     },
     "type": "CODE"
    }
   },
   "outputs": [
    {
     "data": {
      "image/png": "[encoded data removed]"
     },
     "metadata": {
      "image/png": {}
     },
     "output_type": "display_data"
    }
   ],
   "source": [
    "#plot the yield curve\n",
    "returns_with_p['yield curve'].plot(label = 'Overall return = {}'.format(np.round(float(returns_with_p['yield curve'].tail(1)),2)))\n",
    "plt.title('Yield Curve (Aggressive)')\n",
    "plt.xlabel('Date')\n",
    "plt.ylabel('Cumulative return')\n",
    "plt.legend()\n",
    "plt.savefig('Yield Curve (Aggressive).png', dpi=500)"
   ]
  },
  {
   "cell_type": "code",
   "execution_count": null,
   "metadata": {
    "datalore": {
     "hide_input_from_viewers": false,
     "hide_output_from_viewers": false,
     "node_id": "5rSzJovAlyXSFVt526eN2J",
     "report_properties": {
      "rowId": "cowAXWN6tBhFBzhtKJR4UY"
     },
     "type": "CODE"
    }
   },
   "outputs": [
    {
     "data": {
      "text/html": [
       "<div>\n",
       "<style scoped>\n",
       "    .dataframe tbody tr th:only-of-type {\n",
       "        vertical-align: middle;\n",
       "    }\n",
       "\n",
       "    .dataframe tbody tr th {\n",
       "        vertical-align: top;\n",
       "    }\n",
       "\n",
       "    .dataframe thead th {\n",
       "        text-align: right;\n",
       "    }\n",
       "</style>\n",
       "<table border=\"1\" class=\"dataframe\">\n",
       "  <thead>\n",
       "    <tr style=\"text-align: right;\">\n",
       "      <th></th>\n",
       "      <th>Conservative</th>\n",
       "      <th>Balanced</th>\n",
       "      <th>Aggressive</th>\n",
       "    </tr>\n",
       "    <tr>\n",
       "      <th>Date</th>\n",
       "      <th></th>\n",
       "      <th></th>\n",
       "      <th></th>\n",
       "    </tr>\n",
       "  </thead>\n",
       "  <tbody>\n",
       "    <tr>\n",
       "      <th>2015-07-01</th>\n",
       "      <td>1.000000</td>\n",
       "      <td>1.000000</td>\n",
       "      <td>1.000000</td>\n",
       "    </tr>\n",
       "    <tr>\n",
       "      <th>2015-07-02</th>\n",
       "      <td>1.004072</td>\n",
       "      <td>1.003420</td>\n",
       "      <td>1.000732</td>\n",
       "    </tr>\n",
       "    <tr>\n",
       "      <th>2015-07-06</th>\n",
       "      <td>1.002196</td>\n",
       "      <td>1.002591</td>\n",
       "      <td>0.996916</td>\n",
       "    </tr>\n",
       "    <tr>\n",
       "      <th>2015-07-07</th>\n",
       "      <td>1.011886</td>\n",
       "      <td>0.990545</td>\n",
       "      <td>0.998476</td>\n",
       "    </tr>\n",
       "    <tr>\n",
       "      <th>2015-07-08</th>\n",
       "      <td>0.999515</td>\n",
       "      <td>0.967926</td>\n",
       "      <td>0.982401</td>\n",
       "    </tr>\n",
       "    <tr>\n",
       "      <th>...</th>\n",
       "      <td>...</td>\n",
       "      <td>...</td>\n",
       "      <td>...</td>\n",
       "    </tr>\n",
       "    <tr>\n",
       "      <th>2022-01-25</th>\n",
       "      <td>1.982155</td>\n",
       "      <td>3.800040</td>\n",
       "      <td>5.995177</td>\n",
       "    </tr>\n",
       "    <tr>\n",
       "      <th>2022-01-26</th>\n",
       "      <td>1.980629</td>\n",
       "      <td>3.796014</td>\n",
       "      <td>6.011959</td>\n",
       "    </tr>\n",
       "    <tr>\n",
       "      <th>2022-01-27</th>\n",
       "      <td>1.983753</td>\n",
       "      <td>3.784886</td>\n",
       "      <td>5.912717</td>\n",
       "    </tr>\n",
       "    <tr>\n",
       "      <th>2022-01-28</th>\n",
       "      <td>1.995836</td>\n",
       "      <td>3.794614</td>\n",
       "      <td>5.931151</td>\n",
       "    </tr>\n",
       "    <tr>\n",
       "      <th>2022-01-31</th>\n",
       "      <td>2.006194</td>\n",
       "      <td>3.813847</td>\n",
       "      <td>6.025515</td>\n",
       "    </tr>\n",
       "  </tbody>\n",
       "</table>\n",
       "<p>1659 rows × 3 columns</p>\n",
       "</div>"
      ]
     },
     "metadata": {},
     "output_type": "display_data"
    }
   ],
   "source": [
    "#save yield curve\n",
    "yields['Aggressive'] = returns_with_p['yield curve']\n",
    "yields"
   ]
  },
  {
   "cell_type": "code",
   "execution_count": null,
   "metadata": {
    "datalore": {
     "hide_input_from_viewers": false,
     "hide_output_from_viewers": false,
     "node_id": "Y2bOIqq73TZ3P0aIDiQrhf",
     "report_properties": {
      "rowId": "cowAXWN6tBhFBzhtKJR4UY"
     },
     "type": "CODE"
    }
   },
   "outputs": [],
   "source": [
    "p_variance = np.var(returns_with_p['portfolio'])*252\n",
    "p_volatility = np.sqrt(p_variance)\n",
    "p_return = np.mean(returns_with_p['portfolio'])*252\n",
    "p_sharpe = (p_return - risk_free_rate) / p_volatility "
   ]
  },
  {
   "cell_type": "code",
   "execution_count": null,
   "metadata": {
    "datalore": {
     "hide_input_from_viewers": false,
     "hide_output_from_viewers": false,
     "node_id": "lruAAtru6LnfYZOjycPBLW",
     "report_properties": {
      "rowId": "cowAXWN6tBhFBzhtKJR4UY"
     },
     "type": "CODE"
    }
   },
   "outputs": [
    {
     "name": "stdout",
     "output_type": "stream",
     "text": [
      "Average annual return: 76.34%\n",
      "Annual volatility: 42.32%\n",
      "Sharpe ratio: 1.8\n"
     ]
    }
   ],
   "source": [
    "percent_vol = str(round((p_volatility*100),2))+'%'\n",
    "percent_return = str(round((p_return*100),2))+'%'\n",
    "sharpe_ratio = str(round(p_sharpe,2))\n",
    "\n",
    "\n",
    "print('Average annual return: ' + percent_return)\n",
    "print('Annual volatility: ' + percent_vol)\n",
    "print('Sharpe ratio: ' + sharpe_ratio)"
   ]
  },
  {
   "cell_type": "code",
   "execution_count": null,
   "metadata": {
    "datalore": {
     "hide_input_from_viewers": false,
     "hide_output_from_viewers": false,
     "node_id": "0h0l7zmnrskkDA1F2eWh2q",
     "report_properties": {
      "rowId": "cowAXWN6tBhFBzhtKJR4UY"
     },
     "type": "CODE"
    }
   },
   "outputs": [
    {
     "data": {
      "image/png": "[encoded data removed]"
     },
     "metadata": {
      "image/png": {}
     },
     "output_type": "display_data"
    }
   ],
   "source": [
    "returns_with_p['drawdown'] = returns_with_p['yield curve'] - returns_with_p[\"yield curve\"].cummax()\n",
    "returns_with_p['drawdown_percent'] = (returns_with_p['yield curve']/returns_with_p[\"yield curve\"].cummax())-1\n",
    "returns_with_p['drawdown_percent'].plot(color = 'red', label = 'Max Drawdown = {}%'.format(np.round(returns_with_p['drawdown_percent'].min(),3)*100))\n",
    "plt.title('Drawdown Graph (Aggressive)')\n",
    "plt.xlabel('Date')\n",
    "plt.ylabel('Drawdown')\n",
    "plt.legend()\n",
    "plt.savefig('Drawdown graph (Aggressive).png', dpi=500)"
   ]
  },
  {
   "cell_type": "code",
   "execution_count": null,
   "metadata": {
    "datalore": {
     "hide_input_from_viewers": false,
     "hide_output_from_viewers": false,
     "node_id": "BES5n7FqqA1XUgV3b2wl5d",
     "report_properties": {
      "rowId": "cowAXWN6tBhFBzhtKJR4UY"
     },
     "type": "CODE"
    }
   },
   "outputs": [
    {
     "data": {
      "text/html": [
       "<div>\n",
       "<style scoped>\n",
       "    .dataframe tbody tr th:only-of-type {\n",
       "        vertical-align: middle;\n",
       "    }\n",
       "\n",
       "    .dataframe tbody tr th {\n",
       "        vertical-align: top;\n",
       "    }\n",
       "\n",
       "    .dataframe thead th {\n",
       "        text-align: right;\n",
       "    }\n",
       "</style>\n",
       "<table border=\"1\" class=\"dataframe\">\n",
       "  <thead>\n",
       "    <tr style=\"text-align: right;\">\n",
       "      <th></th>\n",
       "      <th>Conservative</th>\n",
       "      <th>Balanced</th>\n",
       "      <th>Aggressive</th>\n",
       "    </tr>\n",
       "    <tr>\n",
       "      <th>Date</th>\n",
       "      <th></th>\n",
       "      <th></th>\n",
       "      <th></th>\n",
       "    </tr>\n",
       "  </thead>\n",
       "  <tbody>\n",
       "    <tr>\n",
       "      <th>2015-07-01</th>\n",
       "      <td>0.000000</td>\n",
       "      <td>0.000000</td>\n",
       "      <td>0.000000</td>\n",
       "    </tr>\n",
       "    <tr>\n",
       "      <th>2015-07-02</th>\n",
       "      <td>0.000000</td>\n",
       "      <td>0.000000</td>\n",
       "      <td>0.000000</td>\n",
       "    </tr>\n",
       "    <tr>\n",
       "      <th>2015-07-06</th>\n",
       "      <td>-0.001868</td>\n",
       "      <td>-0.000826</td>\n",
       "      <td>-0.003812</td>\n",
       "    </tr>\n",
       "    <tr>\n",
       "      <th>2015-07-07</th>\n",
       "      <td>0.000000</td>\n",
       "      <td>-0.012831</td>\n",
       "      <td>-0.002254</td>\n",
       "    </tr>\n",
       "    <tr>\n",
       "      <th>2015-07-08</th>\n",
       "      <td>-0.012226</td>\n",
       "      <td>-0.035373</td>\n",
       "      <td>-0.018317</td>\n",
       "    </tr>\n",
       "    <tr>\n",
       "      <th>...</th>\n",
       "      <td>...</td>\n",
       "      <td>...</td>\n",
       "      <td>...</td>\n",
       "    </tr>\n",
       "    <tr>\n",
       "      <th>2022-01-25</th>\n",
       "      <td>-0.029025</td>\n",
       "      <td>-0.030921</td>\n",
       "      <td>-0.052060</td>\n",
       "    </tr>\n",
       "    <tr>\n",
       "      <th>2022-01-26</th>\n",
       "      <td>-0.029773</td>\n",
       "      <td>-0.031948</td>\n",
       "      <td>-0.049406</td>\n",
       "    </tr>\n",
       "    <tr>\n",
       "      <th>2022-01-27</th>\n",
       "      <td>-0.028243</td>\n",
       "      <td>-0.034786</td>\n",
       "      <td>-0.065098</td>\n",
       "    </tr>\n",
       "    <tr>\n",
       "      <th>2022-01-28</th>\n",
       "      <td>-0.022323</td>\n",
       "      <td>-0.032305</td>\n",
       "      <td>-0.062184</td>\n",
       "    </tr>\n",
       "    <tr>\n",
       "      <th>2022-01-31</th>\n",
       "      <td>-0.017250</td>\n",
       "      <td>-0.027400</td>\n",
       "      <td>-0.047263</td>\n",
       "    </tr>\n",
       "  </tbody>\n",
       "</table>\n",
       "<p>1659 rows × 3 columns</p>\n",
       "</div>"
      ]
     },
     "metadata": {},
     "output_type": "display_data"
    }
   ],
   "source": [
    "#save drawdowns\n",
    "drawdowns['Aggressive'] = returns_with_p['drawdown_percent']\n",
    "drawdowns"
   ]
  },
  {
   "cell_type": "code",
   "execution_count": null,
   "metadata": {
    "datalore": {
     "hide_input_from_viewers": false,
     "hide_output_from_viewers": false,
     "node_id": "rMAd7wXkC48gicFQ7OVbz2",
     "report_properties": {
      "rowId": "cowAXWN6tBhFBzhtKJR4UY"
     },
     "type": "CODE"
    }
   },
   "outputs": [
    {
     "name": "stdout",
     "output_type": "stream",
     "text": [
      "The longest recovery period is 136 trading days \n"
     ]
    }
   ],
   "source": [
    "count = 0\n",
    "prev = 0\n",
    "indexend = 0\n",
    "for i in range(0,len(returns_with_p['drawdown'])):\n",
    "    if returns_with_p['drawdown'][i] < 0:\n",
    "        count += 1\n",
    "    else:            \n",
    "      if count > prev:\n",
    "        prev = count\n",
    "        indexend = i\n",
    "      count = 0\n",
    "\n",
    "print(\"The longest recovery period is \"+str(prev)+\" trading days \")"
   ]
  },
  {
   "cell_type": "code",
   "execution_count": null,
   "metadata": {
    "datalore": {
     "hide_input_from_viewers": false,
     "hide_output_from_viewers": false,
     "node_id": "dF2PINqV4diQeJQf6tfSM2",
     "report_properties": {
      "rowId": "cowAXWN6tBhFBzhtKJR4UY"
     },
     "type": "CODE"
    }
   },
   "outputs": [
    {
     "data": {
      "image/png": "[encoded data removed]"
     },
     "metadata": {
      "image/png": {}
     },
     "output_type": "display_data"
    }
   ],
   "source": [
    "#plot aggregated yield curve\n",
    "x = yields['Aggressive']\n",
    "y = yields['Balanced']\n",
    "z = yields['Conservative']\n",
    "plt.figure(figsize =(10,7))\n",
    "plt.plot(x, color = 'red', label = 'Agressive. Return = {}'.format(np.round(float(yields['Aggressive'].tail(1)),2)))\n",
    "plt.plot(y, color = 'orange', label = 'Balanced. Return = {}'.format(np.round(float(yields['Balanced'].tail(1)),2)))\n",
    "plt.plot(z, color = 'green', label = 'Conservative. Return = {}'.format(np.round(float(yields['Conservative'].tail(1)),2)))\n",
    "plt.title('Yield Curves')\n",
    "plt.xlabel('Date')\n",
    "plt.ylabel('Cumulative return')\n",
    "plt.legend()\n",
    "plt.savefig('Yield Curves (All Types).png', dpi=500)\n",
    "plt.show()"
   ]
  },
  {
   "cell_type": "code",
   "execution_count": null,
   "metadata": {
    "datalore": {
     "hide_input_from_viewers": false,
     "hide_output_from_viewers": false,
     "node_id": "bDNS766EYeDnKBJhQFPZHs",
     "report_properties": {
      "rowId": "cowAXWN6tBhFBzhtKJR4UY"
     },
     "type": "CODE"
    }
   },
   "outputs": [
    {
     "data": {
      "image/png": "[encoded data removed]"
     },
     "metadata": {
      "image/png": {}
     },
     "output_type": "display_data"
    }
   ],
   "source": [
    "#plot aggregated drawdown curve\n",
    "x = drawdowns['Aggressive']\n",
    "y = drawdowns['Balanced']\n",
    "z = drawdowns['Conservative']\n",
    "plt.figure(figsize =(10,7))\n",
    "plt.plot(x, color = 'red', label = 'Agressive. Max drawdown = {}%'.format(np.round(drawdowns['Aggressive'].min(),4)*100))\n",
    "plt.plot(y, color = 'orange', label = 'Balanced. Max drawdown = {}%'.format(np.round(drawdowns['Balanced'].min(),4)*100))\n",
    "plt.plot(z, color = 'green', label = 'Conservative. Max drawdown = {}%'.format(np.round(drawdowns['Conservative'].min(),4)*100))\n",
    "plt.title('Drawdown Curves')\n",
    "plt.xlabel('Date')\n",
    "plt.ylabel('Drawdown')\n",
    "plt.legend()\n",
    "plt.savefig('Drawdown Curves (All Types).png', dpi=500)\n",
    "plt.show()"
   ]
  }
 ],
 "metadata": {
  "datalore": {
   "base_environment": "default",
   "computation_mode": "JUPYTER",
   "package_manager": "pip",
   "packages": [],
   "report_row_ids": [
    "cowAXWN6tBhFBzhtKJR4UY"
   ],
   "version": 3
  },
  "kernelspec": {
   "display_name": "base",
   "language": "python",
   "name": "python3"
  },
  "language_info": {
   "name": "python",
   "version": "3.11.5"
  }
 },
 "nbformat": 4,
 "nbformat_minor": 4
}
